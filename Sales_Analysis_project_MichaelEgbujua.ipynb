{
 "cells": [
  {
   "cell_type": "markdown",
   "id": "9d1c59e4",
   "metadata": {},
   "source": [
    "## Introduction\n",
    "The project is to demonstrate my understanding on the use of the  python libraries such as pandas, numpy, glob, matplotlib\n",
    "and other tools with respect to  data application in business domain as well as data exploratory analysis. The source of the data can be traced to Tequant(the Edutech academy where I learn), which was sent via email and was downloaded for use, the list of files was a compositions of multiple csv and xlxs file. The files to be analysed is a business' transaction record for the year 2019.\n",
    "\n",
    "## Methodology\n",
    "the methodology used for this project is the CRISPDM, which stands for Cross Industry Standard Practices for Data Mining. \n",
    "This prcosses includes: 1. Business Understanding(Dormain Knowledge) 2. Data Understanding (Data Quality assessment and EDA) \n",
    "3. Data Preparation (Cleaning and ETL) 4. Modeling (Descriptives in this case) 5. Evaluation and 6. Deployment. \n",
    "(N/B: 5 and 6 are less of focus since they were not relevant in this analysis)\n",
    "\n",
    "## Business Objectives\n",
    "You are to perform exploratory data analysis on the given dataset. Using the tools and skills you have learned as a Data Analyst, present the following:\n",
    "\n",
    "•1 General summary of the dataset (summary and averages of each column)\n",
    "\n",
    "•2 The months with the highest and lowest sales\n",
    "\n",
    "•3 Average monthly sales per city\n",
    "\n",
    "•4 Highest selling product per month\n",
    "\n",
    "•5 Overall highest selling product\n",
    "\n",
    "•6 Highest selling product per city\n",
    "\n",
    "•7 Most profitable product\n",
    "\n",
    "•8 Products with the highest frequency of being bought together\n",
    "\n",
    "•9 Recommend in which City sales outlet should be closed\n",
    "\n",
    "•10 Recommend a product to be dropped from the store’s inventory\n",
    "\n"
   ]
  },
  {
   "cell_type": "code",
   "execution_count": 1,
   "id": "867e04da",
   "metadata": {},
   "outputs": [],
   "source": [
    "#importing all the required libraries\n",
    "import pandas as pd\n",
    "import numpy as np\n",
    "import glob\n",
    "import matplotlib.pyplot as plt\n",
    "import seaborn as sns"
   ]
  },
  {
   "cell_type": "code",
   "execution_count": 2,
   "id": "2cc17d0f",
   "metadata": {},
   "outputs": [],
   "source": [
    "#define the path where all the needed csv file resides\n",
    "path =\"C:\\\\Users\\\\ASUS\\\\Documents\\\\data_bank\\\\Tequant_Project\\\\Input_loc\\\\*.csv\""
   ]
  },
  {
   "cell_type": "code",
   "execution_count": 3,
   "id": "63a71ce9",
   "metadata": {},
   "outputs": [
    {
     "data": {
      "text/plain": [
       "['C:\\\\Users\\\\ASUS\\\\Documents\\\\data_bank\\\\Tequant_Project\\\\Input_loc\\\\Sales_April_2019.csv',\n",
       " 'C:\\\\Users\\\\ASUS\\\\Documents\\\\data_bank\\\\Tequant_Project\\\\Input_loc\\\\Sales_August_2019.csv',\n",
       " 'C:\\\\Users\\\\ASUS\\\\Documents\\\\data_bank\\\\Tequant_Project\\\\Input_loc\\\\Sales_December_2019.csv',\n",
       " 'C:\\\\Users\\\\ASUS\\\\Documents\\\\data_bank\\\\Tequant_Project\\\\Input_loc\\\\Sales_February_2019.csv',\n",
       " 'C:\\\\Users\\\\ASUS\\\\Documents\\\\data_bank\\\\Tequant_Project\\\\Input_loc\\\\Sales_January_2019.csv',\n",
       " 'C:\\\\Users\\\\ASUS\\\\Documents\\\\data_bank\\\\Tequant_Project\\\\Input_loc\\\\Sales_July_2019.csv',\n",
       " 'C:\\\\Users\\\\ASUS\\\\Documents\\\\data_bank\\\\Tequant_Project\\\\Input_loc\\\\Sales_June_2019.csv',\n",
       " 'C:\\\\Users\\\\ASUS\\\\Documents\\\\data_bank\\\\Tequant_Project\\\\Input_loc\\\\Sales_March_2019.csv',\n",
       " 'C:\\\\Users\\\\ASUS\\\\Documents\\\\data_bank\\\\Tequant_Project\\\\Input_loc\\\\Sales_May_2019.csv',\n",
       " 'C:\\\\Users\\\\ASUS\\\\Documents\\\\data_bank\\\\Tequant_Project\\\\Input_loc\\\\Sales_November_2019.csv',\n",
       " 'C:\\\\Users\\\\ASUS\\\\Documents\\\\data_bank\\\\Tequant_Project\\\\Input_loc\\\\Sales_October_2019.csv',\n",
       " 'C:\\\\Users\\\\ASUS\\\\Documents\\\\data_bank\\\\Tequant_Project\\\\Input_loc\\\\Sales_September_2019.csv']"
      ]
     },
     "execution_count": 3,
     "metadata": {},
     "output_type": "execute_result"
    }
   ],
   "source": [
    "# Use glob to retrieve the file names matching the specified pattern\n",
    "csv_files = glob.glob(path)\n",
    "\n",
    "#confirm a list of csv file will appear\n",
    "csv_files"
   ]
  },
  {
   "cell_type": "code",
   "execution_count": 4,
   "id": "53e56b79",
   "metadata": {},
   "outputs": [
    {
     "data": {
      "text/html": [
       "<div>\n",
       "<style scoped>\n",
       "    .dataframe tbody tr th:only-of-type {\n",
       "        vertical-align: middle;\n",
       "    }\n",
       "\n",
       "    .dataframe tbody tr th {\n",
       "        vertical-align: top;\n",
       "    }\n",
       "\n",
       "    .dataframe thead th {\n",
       "        text-align: right;\n",
       "    }\n",
       "</style>\n",
       "<table border=\"1\" class=\"dataframe\">\n",
       "  <thead>\n",
       "    <tr style=\"text-align: right;\">\n",
       "      <th></th>\n",
       "      <th>Order ID</th>\n",
       "      <th>Product</th>\n",
       "      <th>Quantity Ordered</th>\n",
       "      <th>Price Each</th>\n",
       "      <th>Order Date</th>\n",
       "      <th>Purchase Address</th>\n",
       "    </tr>\n",
       "  </thead>\n",
       "  <tbody>\n",
       "    <tr>\n",
       "      <th>0</th>\n",
       "      <td>176558</td>\n",
       "      <td>USB-C Charging Cable</td>\n",
       "      <td>2</td>\n",
       "      <td>11.95</td>\n",
       "      <td>04/19/19 08:46</td>\n",
       "      <td>917 1st St, Dallas, TX 75001</td>\n",
       "    </tr>\n",
       "    <tr>\n",
       "      <th>1</th>\n",
       "      <td>NaN</td>\n",
       "      <td>NaN</td>\n",
       "      <td>NaN</td>\n",
       "      <td>NaN</td>\n",
       "      <td>NaN</td>\n",
       "      <td>NaN</td>\n",
       "    </tr>\n",
       "    <tr>\n",
       "      <th>2</th>\n",
       "      <td>176559</td>\n",
       "      <td>Bose SoundSport Headphones</td>\n",
       "      <td>1</td>\n",
       "      <td>99.99</td>\n",
       "      <td>04/07/19 22:30</td>\n",
       "      <td>682 Chestnut St, Boston, MA 02215</td>\n",
       "    </tr>\n",
       "    <tr>\n",
       "      <th>3</th>\n",
       "      <td>176560</td>\n",
       "      <td>Google Phone</td>\n",
       "      <td>1</td>\n",
       "      <td>600</td>\n",
       "      <td>04/12/19 14:38</td>\n",
       "      <td>669 Spruce St, Los Angeles, CA 90001</td>\n",
       "    </tr>\n",
       "    <tr>\n",
       "      <th>4</th>\n",
       "      <td>176560</td>\n",
       "      <td>Wired Headphones</td>\n",
       "      <td>1</td>\n",
       "      <td>11.99</td>\n",
       "      <td>04/12/19 14:38</td>\n",
       "      <td>669 Spruce St, Los Angeles, CA 90001</td>\n",
       "    </tr>\n",
       "    <tr>\n",
       "      <th>...</th>\n",
       "      <td>...</td>\n",
       "      <td>...</td>\n",
       "      <td>...</td>\n",
       "      <td>...</td>\n",
       "      <td>...</td>\n",
       "      <td>...</td>\n",
       "    </tr>\n",
       "    <tr>\n",
       "      <th>186845</th>\n",
       "      <td>259353</td>\n",
       "      <td>AAA Batteries (4-pack)</td>\n",
       "      <td>3</td>\n",
       "      <td>2.99</td>\n",
       "      <td>09/17/19 20:56</td>\n",
       "      <td>840 Highland St, Los Angeles, CA 90001</td>\n",
       "    </tr>\n",
       "    <tr>\n",
       "      <th>186846</th>\n",
       "      <td>259354</td>\n",
       "      <td>iPhone</td>\n",
       "      <td>1</td>\n",
       "      <td>700</td>\n",
       "      <td>09/01/19 16:00</td>\n",
       "      <td>216 Dogwood St, San Francisco, CA 94016</td>\n",
       "    </tr>\n",
       "    <tr>\n",
       "      <th>186847</th>\n",
       "      <td>259355</td>\n",
       "      <td>iPhone</td>\n",
       "      <td>1</td>\n",
       "      <td>700</td>\n",
       "      <td>09/23/19 07:39</td>\n",
       "      <td>220 12th St, San Francisco, CA 94016</td>\n",
       "    </tr>\n",
       "    <tr>\n",
       "      <th>186848</th>\n",
       "      <td>259356</td>\n",
       "      <td>34in Ultrawide Monitor</td>\n",
       "      <td>1</td>\n",
       "      <td>379.99</td>\n",
       "      <td>09/19/19 17:30</td>\n",
       "      <td>511 Forest St, San Francisco, CA 94016</td>\n",
       "    </tr>\n",
       "    <tr>\n",
       "      <th>186849</th>\n",
       "      <td>259357</td>\n",
       "      <td>USB-C Charging Cable</td>\n",
       "      <td>1</td>\n",
       "      <td>11.95</td>\n",
       "      <td>09/30/19 00:18</td>\n",
       "      <td>250 Meadow St, San Francisco, CA 94016</td>\n",
       "    </tr>\n",
       "  </tbody>\n",
       "</table>\n",
       "<p>186850 rows × 6 columns</p>\n",
       "</div>"
      ],
      "text/plain": [
       "       Order ID                     Product Quantity Ordered Price Each  \\\n",
       "0        176558        USB-C Charging Cable                2      11.95   \n",
       "1           NaN                         NaN              NaN        NaN   \n",
       "2        176559  Bose SoundSport Headphones                1      99.99   \n",
       "3        176560                Google Phone                1        600   \n",
       "4        176560            Wired Headphones                1      11.99   \n",
       "...         ...                         ...              ...        ...   \n",
       "186845   259353      AAA Batteries (4-pack)                3       2.99   \n",
       "186846   259354                      iPhone                1        700   \n",
       "186847   259355                      iPhone                1        700   \n",
       "186848   259356      34in Ultrawide Monitor                1     379.99   \n",
       "186849   259357        USB-C Charging Cable                1      11.95   \n",
       "\n",
       "            Order Date                         Purchase Address  \n",
       "0       04/19/19 08:46             917 1st St, Dallas, TX 75001  \n",
       "1                  NaN                                      NaN  \n",
       "2       04/07/19 22:30        682 Chestnut St, Boston, MA 02215  \n",
       "3       04/12/19 14:38     669 Spruce St, Los Angeles, CA 90001  \n",
       "4       04/12/19 14:38     669 Spruce St, Los Angeles, CA 90001  \n",
       "...                ...                                      ...  \n",
       "186845  09/17/19 20:56   840 Highland St, Los Angeles, CA 90001  \n",
       "186846  09/01/19 16:00  216 Dogwood St, San Francisco, CA 94016  \n",
       "186847  09/23/19 07:39     220 12th St, San Francisco, CA 94016  \n",
       "186848  09/19/19 17:30   511 Forest St, San Francisco, CA 94016  \n",
       "186849  09/30/19 00:18   250 Meadow St, San Francisco, CA 94016  \n",
       "\n",
       "[186850 rows x 6 columns]"
      ]
     },
     "execution_count": 4,
     "metadata": {},
     "output_type": "execute_result"
    }
   ],
   "source": [
    "# Initialize an empty list to store the individual csv file into a DataFrames\n",
    "dataframes = []\n",
    "# Iterate over each CSV file\n",
    "for file in csv_files:\n",
    "    # Read each CSV file into a Pandas DataFrame and append it to the list\n",
    "    df = pd.read_csv(file)\n",
    "    dataframes.append(df)\n",
    "    \n",
    "# Concatenate all DataFrames into a single DataFrame\n",
    "combined_df = pd.concat(dataframes, ignore_index=True)\n",
    "\n",
    "# Display the combined DataFrame\n",
    "combined_df"
   ]
  },
  {
   "cell_type": "markdown",
   "id": "8211eae4",
   "metadata": {},
   "source": [
    "##  Data cleaning (Wrangling) and data quality assessment: \n",
    "we take care of  1. null values (if any), 2. eliminate wrong values, 3. eliminate duplicate values and 4. change wrong datatype format"
   ]
  },
  {
   "cell_type": "code",
   "execution_count": 5,
   "id": "6f4e0165",
   "metadata": {},
   "outputs": [
    {
     "name": "stdout",
     "output_type": "stream",
     "text": [
      "<class 'pandas.core.frame.DataFrame'>\n",
      "RangeIndex: 186850 entries, 0 to 186849\n",
      "Data columns (total 6 columns):\n",
      " #   Column            Non-Null Count   Dtype \n",
      "---  ------            --------------   ----- \n",
      " 0   Order ID          186305 non-null  object\n",
      " 1   Product           186305 non-null  object\n",
      " 2   Quantity Ordered  186305 non-null  object\n",
      " 3   Price Each        186305 non-null  object\n",
      " 4   Order Date        186305 non-null  object\n",
      " 5   Purchase Address  186305 non-null  object\n",
      "dtypes: object(6)\n",
      "memory usage: 8.6+ MB\n"
     ]
    }
   ],
   "source": [
    "combined_df.info()"
   ]
  },
  {
   "cell_type": "code",
   "execution_count": 6,
   "id": "f58672ee",
   "metadata": {},
   "outputs": [
    {
     "data": {
      "text/html": [
       "<div>\n",
       "<style scoped>\n",
       "    .dataframe tbody tr th:only-of-type {\n",
       "        vertical-align: middle;\n",
       "    }\n",
       "\n",
       "    .dataframe tbody tr th {\n",
       "        vertical-align: top;\n",
       "    }\n",
       "\n",
       "    .dataframe thead th {\n",
       "        text-align: right;\n",
       "    }\n",
       "</style>\n",
       "<table border=\"1\" class=\"dataframe\">\n",
       "  <thead>\n",
       "    <tr style=\"text-align: right;\">\n",
       "      <th></th>\n",
       "      <th>Order ID</th>\n",
       "      <th>Product</th>\n",
       "      <th>Quantity Ordered</th>\n",
       "      <th>Price Each</th>\n",
       "      <th>Order Date</th>\n",
       "      <th>Purchase Address</th>\n",
       "    </tr>\n",
       "  </thead>\n",
       "  <tbody>\n",
       "    <tr>\n",
       "      <th>count</th>\n",
       "      <td>186305</td>\n",
       "      <td>186305</td>\n",
       "      <td>186305</td>\n",
       "      <td>186305</td>\n",
       "      <td>186305</td>\n",
       "      <td>186305</td>\n",
       "    </tr>\n",
       "    <tr>\n",
       "      <th>unique</th>\n",
       "      <td>178438</td>\n",
       "      <td>20</td>\n",
       "      <td>10</td>\n",
       "      <td>24</td>\n",
       "      <td>142396</td>\n",
       "      <td>140788</td>\n",
       "    </tr>\n",
       "    <tr>\n",
       "      <th>top</th>\n",
       "      <td>Order ID</td>\n",
       "      <td>USB-C Charging Cable</td>\n",
       "      <td>1</td>\n",
       "      <td>11.95</td>\n",
       "      <td>Order Date</td>\n",
       "      <td>Purchase Address</td>\n",
       "    </tr>\n",
       "    <tr>\n",
       "      <th>freq</th>\n",
       "      <td>355</td>\n",
       "      <td>21903</td>\n",
       "      <td>168552</td>\n",
       "      <td>21903</td>\n",
       "      <td>355</td>\n",
       "      <td>355</td>\n",
       "    </tr>\n",
       "  </tbody>\n",
       "</table>\n",
       "</div>"
      ],
      "text/plain": [
       "        Order ID               Product Quantity Ordered Price Each  \\\n",
       "count     186305                186305           186305     186305   \n",
       "unique    178438                    20               10         24   \n",
       "top     Order ID  USB-C Charging Cable                1      11.95   \n",
       "freq         355                 21903           168552      21903   \n",
       "\n",
       "        Order Date  Purchase Address  \n",
       "count       186305            186305  \n",
       "unique      142396            140788  \n",
       "top     Order Date  Purchase Address  \n",
       "freq           355               355  "
      ]
     },
     "execution_count": 6,
     "metadata": {},
     "output_type": "execute_result"
    }
   ],
   "source": [
    "\n",
    "combined_df.describe()"
   ]
  },
  {
   "cell_type": "markdown",
   "id": "07e992ca",
   "metadata": {},
   "source": [
    "# checking for null values"
   ]
  },
  {
   "cell_type": "code",
   "execution_count": 7,
   "id": "2c4bc30e",
   "metadata": {},
   "outputs": [
    {
     "data": {
      "text/plain": [
       "Order ID            545\n",
       "Product             545\n",
       "Quantity Ordered    545\n",
       "Price Each          545\n",
       "Order Date          545\n",
       "Purchase Address    545\n",
       "dtype: int64"
      ]
     },
     "execution_count": 7,
     "metadata": {},
     "output_type": "execute_result"
    }
   ],
   "source": [
    "#checking for null value\n",
    "combined_df.isnull().sum()"
   ]
  },
  {
   "cell_type": "code",
   "execution_count": 8,
   "id": "c9e92233",
   "metadata": {},
   "outputs": [],
   "source": [
    "#drop the null values (since its less than 4%)\n",
    "combined_df.dropna(inplace=True)\n"
   ]
  },
  {
   "cell_type": "code",
   "execution_count": 9,
   "id": "31b2b258",
   "metadata": {},
   "outputs": [
    {
     "data": {
      "text/html": [
       "<div>\n",
       "<style scoped>\n",
       "    .dataframe tbody tr th:only-of-type {\n",
       "        vertical-align: middle;\n",
       "    }\n",
       "\n",
       "    .dataframe tbody tr th {\n",
       "        vertical-align: top;\n",
       "    }\n",
       "\n",
       "    .dataframe thead th {\n",
       "        text-align: right;\n",
       "    }\n",
       "</style>\n",
       "<table border=\"1\" class=\"dataframe\">\n",
       "  <thead>\n",
       "    <tr style=\"text-align: right;\">\n",
       "      <th></th>\n",
       "      <th>Order ID</th>\n",
       "      <th>Product</th>\n",
       "      <th>Quantity Ordered</th>\n",
       "      <th>Price Each</th>\n",
       "      <th>Order Date</th>\n",
       "      <th>Purchase Address</th>\n",
       "    </tr>\n",
       "  </thead>\n",
       "  <tbody>\n",
       "    <tr>\n",
       "      <th>0</th>\n",
       "      <td>176558</td>\n",
       "      <td>USB-C Charging Cable</td>\n",
       "      <td>2</td>\n",
       "      <td>11.95</td>\n",
       "      <td>04/19/19 08:46</td>\n",
       "      <td>917 1st St, Dallas, TX 75001</td>\n",
       "    </tr>\n",
       "    <tr>\n",
       "      <th>2</th>\n",
       "      <td>176559</td>\n",
       "      <td>Bose SoundSport Headphones</td>\n",
       "      <td>1</td>\n",
       "      <td>99.99</td>\n",
       "      <td>04/07/19 22:30</td>\n",
       "      <td>682 Chestnut St, Boston, MA 02215</td>\n",
       "    </tr>\n",
       "    <tr>\n",
       "      <th>3</th>\n",
       "      <td>176560</td>\n",
       "      <td>Google Phone</td>\n",
       "      <td>1</td>\n",
       "      <td>600</td>\n",
       "      <td>04/12/19 14:38</td>\n",
       "      <td>669 Spruce St, Los Angeles, CA 90001</td>\n",
       "    </tr>\n",
       "    <tr>\n",
       "      <th>4</th>\n",
       "      <td>176560</td>\n",
       "      <td>Wired Headphones</td>\n",
       "      <td>1</td>\n",
       "      <td>11.99</td>\n",
       "      <td>04/12/19 14:38</td>\n",
       "      <td>669 Spruce St, Los Angeles, CA 90001</td>\n",
       "    </tr>\n",
       "    <tr>\n",
       "      <th>5</th>\n",
       "      <td>176561</td>\n",
       "      <td>Wired Headphones</td>\n",
       "      <td>1</td>\n",
       "      <td>11.99</td>\n",
       "      <td>04/30/19 09:27</td>\n",
       "      <td>333 8th St, Los Angeles, CA 90001</td>\n",
       "    </tr>\n",
       "    <tr>\n",
       "      <th>...</th>\n",
       "      <td>...</td>\n",
       "      <td>...</td>\n",
       "      <td>...</td>\n",
       "      <td>...</td>\n",
       "      <td>...</td>\n",
       "      <td>...</td>\n",
       "    </tr>\n",
       "    <tr>\n",
       "      <th>186845</th>\n",
       "      <td>259353</td>\n",
       "      <td>AAA Batteries (4-pack)</td>\n",
       "      <td>3</td>\n",
       "      <td>2.99</td>\n",
       "      <td>09/17/19 20:56</td>\n",
       "      <td>840 Highland St, Los Angeles, CA 90001</td>\n",
       "    </tr>\n",
       "    <tr>\n",
       "      <th>186846</th>\n",
       "      <td>259354</td>\n",
       "      <td>iPhone</td>\n",
       "      <td>1</td>\n",
       "      <td>700</td>\n",
       "      <td>09/01/19 16:00</td>\n",
       "      <td>216 Dogwood St, San Francisco, CA 94016</td>\n",
       "    </tr>\n",
       "    <tr>\n",
       "      <th>186847</th>\n",
       "      <td>259355</td>\n",
       "      <td>iPhone</td>\n",
       "      <td>1</td>\n",
       "      <td>700</td>\n",
       "      <td>09/23/19 07:39</td>\n",
       "      <td>220 12th St, San Francisco, CA 94016</td>\n",
       "    </tr>\n",
       "    <tr>\n",
       "      <th>186848</th>\n",
       "      <td>259356</td>\n",
       "      <td>34in Ultrawide Monitor</td>\n",
       "      <td>1</td>\n",
       "      <td>379.99</td>\n",
       "      <td>09/19/19 17:30</td>\n",
       "      <td>511 Forest St, San Francisco, CA 94016</td>\n",
       "    </tr>\n",
       "    <tr>\n",
       "      <th>186849</th>\n",
       "      <td>259357</td>\n",
       "      <td>USB-C Charging Cable</td>\n",
       "      <td>1</td>\n",
       "      <td>11.95</td>\n",
       "      <td>09/30/19 00:18</td>\n",
       "      <td>250 Meadow St, San Francisco, CA 94016</td>\n",
       "    </tr>\n",
       "  </tbody>\n",
       "</table>\n",
       "<p>186305 rows × 6 columns</p>\n",
       "</div>"
      ],
      "text/plain": [
       "       Order ID                     Product Quantity Ordered Price Each  \\\n",
       "0        176558        USB-C Charging Cable                2      11.95   \n",
       "2        176559  Bose SoundSport Headphones                1      99.99   \n",
       "3        176560                Google Phone                1        600   \n",
       "4        176560            Wired Headphones                1      11.99   \n",
       "5        176561            Wired Headphones                1      11.99   \n",
       "...         ...                         ...              ...        ...   \n",
       "186845   259353      AAA Batteries (4-pack)                3       2.99   \n",
       "186846   259354                      iPhone                1        700   \n",
       "186847   259355                      iPhone                1        700   \n",
       "186848   259356      34in Ultrawide Monitor                1     379.99   \n",
       "186849   259357        USB-C Charging Cable                1      11.95   \n",
       "\n",
       "            Order Date                         Purchase Address  \n",
       "0       04/19/19 08:46             917 1st St, Dallas, TX 75001  \n",
       "2       04/07/19 22:30        682 Chestnut St, Boston, MA 02215  \n",
       "3       04/12/19 14:38     669 Spruce St, Los Angeles, CA 90001  \n",
       "4       04/12/19 14:38     669 Spruce St, Los Angeles, CA 90001  \n",
       "5       04/30/19 09:27        333 8th St, Los Angeles, CA 90001  \n",
       "...                ...                                      ...  \n",
       "186845  09/17/19 20:56   840 Highland St, Los Angeles, CA 90001  \n",
       "186846  09/01/19 16:00  216 Dogwood St, San Francisco, CA 94016  \n",
       "186847  09/23/19 07:39     220 12th St, San Francisco, CA 94016  \n",
       "186848  09/19/19 17:30   511 Forest St, San Francisco, CA 94016  \n",
       "186849  09/30/19 00:18   250 Meadow St, San Francisco, CA 94016  \n",
       "\n",
       "[186305 rows x 6 columns]"
      ]
     },
     "execution_count": 9,
     "metadata": {},
     "output_type": "execute_result"
    }
   ],
   "source": [
    "combined_df"
   ]
  },
  {
   "cell_type": "markdown",
   "id": "43fafade",
   "metadata": {},
   "source": [
    "# checking for wrong values for each of the columns"
   ]
  },
  {
   "cell_type": "code",
   "execution_count": 10,
   "id": "243ae610",
   "metadata": {},
   "outputs": [
    {
     "data": {
      "text/plain": [
       "array(['176558', '176559', '176560', ..., '259355', '259356', '259357'],\n",
       "      dtype=object)"
      ]
     },
     "execution_count": 10,
     "metadata": {},
     "output_type": "execute_result"
    }
   ],
   "source": [
    "\n",
    "combined_df[\"Order ID\"].unique()"
   ]
  },
  {
   "cell_type": "code",
   "execution_count": 11,
   "id": "39bd1fb7",
   "metadata": {},
   "outputs": [
    {
     "data": {
      "text/plain": [
       "array(['USB-C Charging Cable', 'Bose SoundSport Headphones',\n",
       "       'Google Phone', 'Wired Headphones', 'Macbook Pro Laptop',\n",
       "       'Lightning Charging Cable', '27in 4K Gaming Monitor',\n",
       "       'AA Batteries (4-pack)', 'Apple Airpods Headphones',\n",
       "       'AAA Batteries (4-pack)', 'iPhone', 'Flatscreen TV',\n",
       "       '27in FHD Monitor', '20in Monitor', 'LG Dryer', 'ThinkPad Laptop',\n",
       "       'Vareebadd Phone', 'LG Washing Machine', '34in Ultrawide Monitor',\n",
       "       'Product'], dtype=object)"
      ]
     },
     "execution_count": 11,
     "metadata": {},
     "output_type": "execute_result"
    }
   ],
   "source": [
    "combined_df[\"Product\"].unique()"
   ]
  },
  {
   "cell_type": "code",
   "execution_count": 12,
   "id": "4a8aa5cd",
   "metadata": {},
   "outputs": [
    {
     "data": {
      "text/html": [
       "<div>\n",
       "<style scoped>\n",
       "    .dataframe tbody tr th:only-of-type {\n",
       "        vertical-align: middle;\n",
       "    }\n",
       "\n",
       "    .dataframe tbody tr th {\n",
       "        vertical-align: top;\n",
       "    }\n",
       "\n",
       "    .dataframe thead th {\n",
       "        text-align: right;\n",
       "    }\n",
       "</style>\n",
       "<table border=\"1\" class=\"dataframe\">\n",
       "  <thead>\n",
       "    <tr style=\"text-align: right;\">\n",
       "      <th></th>\n",
       "      <th>Order ID</th>\n",
       "      <th>Product</th>\n",
       "      <th>Quantity Ordered</th>\n",
       "      <th>Price Each</th>\n",
       "      <th>Order Date</th>\n",
       "      <th>Purchase Address</th>\n",
       "    </tr>\n",
       "  </thead>\n",
       "  <tbody>\n",
       "    <tr>\n",
       "      <th>519</th>\n",
       "      <td>Order ID</td>\n",
       "      <td>Product</td>\n",
       "      <td>Quantity Ordered</td>\n",
       "      <td>Price Each</td>\n",
       "      <td>Order Date</td>\n",
       "      <td>Purchase Address</td>\n",
       "    </tr>\n",
       "    <tr>\n",
       "      <th>1149</th>\n",
       "      <td>Order ID</td>\n",
       "      <td>Product</td>\n",
       "      <td>Quantity Ordered</td>\n",
       "      <td>Price Each</td>\n",
       "      <td>Order Date</td>\n",
       "      <td>Purchase Address</td>\n",
       "    </tr>\n",
       "    <tr>\n",
       "      <th>1155</th>\n",
       "      <td>Order ID</td>\n",
       "      <td>Product</td>\n",
       "      <td>Quantity Ordered</td>\n",
       "      <td>Price Each</td>\n",
       "      <td>Order Date</td>\n",
       "      <td>Purchase Address</td>\n",
       "    </tr>\n",
       "    <tr>\n",
       "      <th>2878</th>\n",
       "      <td>Order ID</td>\n",
       "      <td>Product</td>\n",
       "      <td>Quantity Ordered</td>\n",
       "      <td>Price Each</td>\n",
       "      <td>Order Date</td>\n",
       "      <td>Purchase Address</td>\n",
       "    </tr>\n",
       "    <tr>\n",
       "      <th>2893</th>\n",
       "      <td>Order ID</td>\n",
       "      <td>Product</td>\n",
       "      <td>Quantity Ordered</td>\n",
       "      <td>Price Each</td>\n",
       "      <td>Order Date</td>\n",
       "      <td>Purchase Address</td>\n",
       "    </tr>\n",
       "    <tr>\n",
       "      <th>...</th>\n",
       "      <td>...</td>\n",
       "      <td>...</td>\n",
       "      <td>...</td>\n",
       "      <td>...</td>\n",
       "      <td>...</td>\n",
       "      <td>...</td>\n",
       "    </tr>\n",
       "    <tr>\n",
       "      <th>185164</th>\n",
       "      <td>Order ID</td>\n",
       "      <td>Product</td>\n",
       "      <td>Quantity Ordered</td>\n",
       "      <td>Price Each</td>\n",
       "      <td>Order Date</td>\n",
       "      <td>Purchase Address</td>\n",
       "    </tr>\n",
       "    <tr>\n",
       "      <th>185551</th>\n",
       "      <td>Order ID</td>\n",
       "      <td>Product</td>\n",
       "      <td>Quantity Ordered</td>\n",
       "      <td>Price Each</td>\n",
       "      <td>Order Date</td>\n",
       "      <td>Purchase Address</td>\n",
       "    </tr>\n",
       "    <tr>\n",
       "      <th>186563</th>\n",
       "      <td>Order ID</td>\n",
       "      <td>Product</td>\n",
       "      <td>Quantity Ordered</td>\n",
       "      <td>Price Each</td>\n",
       "      <td>Order Date</td>\n",
       "      <td>Purchase Address</td>\n",
       "    </tr>\n",
       "    <tr>\n",
       "      <th>186632</th>\n",
       "      <td>Order ID</td>\n",
       "      <td>Product</td>\n",
       "      <td>Quantity Ordered</td>\n",
       "      <td>Price Each</td>\n",
       "      <td>Order Date</td>\n",
       "      <td>Purchase Address</td>\n",
       "    </tr>\n",
       "    <tr>\n",
       "      <th>186738</th>\n",
       "      <td>Order ID</td>\n",
       "      <td>Product</td>\n",
       "      <td>Quantity Ordered</td>\n",
       "      <td>Price Each</td>\n",
       "      <td>Order Date</td>\n",
       "      <td>Purchase Address</td>\n",
       "    </tr>\n",
       "  </tbody>\n",
       "</table>\n",
       "<p>355 rows × 6 columns</p>\n",
       "</div>"
      ],
      "text/plain": [
       "        Order ID  Product  Quantity Ordered  Price Each  Order Date  \\\n",
       "519     Order ID  Product  Quantity Ordered  Price Each  Order Date   \n",
       "1149    Order ID  Product  Quantity Ordered  Price Each  Order Date   \n",
       "1155    Order ID  Product  Quantity Ordered  Price Each  Order Date   \n",
       "2878    Order ID  Product  Quantity Ordered  Price Each  Order Date   \n",
       "2893    Order ID  Product  Quantity Ordered  Price Each  Order Date   \n",
       "...          ...      ...               ...         ...         ...   \n",
       "185164  Order ID  Product  Quantity Ordered  Price Each  Order Date   \n",
       "185551  Order ID  Product  Quantity Ordered  Price Each  Order Date   \n",
       "186563  Order ID  Product  Quantity Ordered  Price Each  Order Date   \n",
       "186632  Order ID  Product  Quantity Ordered  Price Each  Order Date   \n",
       "186738  Order ID  Product  Quantity Ordered  Price Each  Order Date   \n",
       "\n",
       "        Purchase Address  \n",
       "519     Purchase Address  \n",
       "1149    Purchase Address  \n",
       "1155    Purchase Address  \n",
       "2878    Purchase Address  \n",
       "2893    Purchase Address  \n",
       "...                  ...  \n",
       "185164  Purchase Address  \n",
       "185551  Purchase Address  \n",
       "186563  Purchase Address  \n",
       "186632  Purchase Address  \n",
       "186738  Purchase Address  \n",
       "\n",
       "[355 rows x 6 columns]"
      ]
     },
     "execution_count": 12,
     "metadata": {},
     "output_type": "execute_result"
    }
   ],
   "source": [
    "#inspect the dataframe containing \"Product\" in the Product column\n",
    "combined_df[combined_df[\"Product\"] ==\"Product\"]"
   ]
  },
  {
   "cell_type": "code",
   "execution_count": 13,
   "id": "e332755e",
   "metadata": {},
   "outputs": [],
   "source": [
    "#eliminate the \"product\" in the product column\n",
    "combined_df.drop(combined_df[combined_df[\"Product\"] ==\"Product\"].index, inplace=True)"
   ]
  },
  {
   "cell_type": "code",
   "execution_count": 14,
   "id": "f4ebc774",
   "metadata": {},
   "outputs": [
    {
     "data": {
      "text/plain": [
       "array(['USB-C Charging Cable', 'Bose SoundSport Headphones',\n",
       "       'Google Phone', 'Wired Headphones', 'Macbook Pro Laptop',\n",
       "       'Lightning Charging Cable', '27in 4K Gaming Monitor',\n",
       "       'AA Batteries (4-pack)', 'Apple Airpods Headphones',\n",
       "       'AAA Batteries (4-pack)', 'iPhone', 'Flatscreen TV',\n",
       "       '27in FHD Monitor', '20in Monitor', 'LG Dryer', 'ThinkPad Laptop',\n",
       "       'Vareebadd Phone', 'LG Washing Machine', '34in Ultrawide Monitor'],\n",
       "      dtype=object)"
      ]
     },
     "execution_count": 14,
     "metadata": {},
     "output_type": "execute_result"
    }
   ],
   "source": [
    "combined_df[\"Product\"].unique()"
   ]
  },
  {
   "cell_type": "code",
   "execution_count": 15,
   "id": "e3cf32a6",
   "metadata": {},
   "outputs": [
    {
     "data": {
      "text/plain": [
       "array(['2', '1', '3', '5', '4', '7', '6', '8', '9'], dtype=object)"
      ]
     },
     "execution_count": 15,
     "metadata": {},
     "output_type": "execute_result"
    }
   ],
   "source": [
    "combined_df[\"Quantity Ordered\"].unique()"
   ]
  },
  {
   "cell_type": "code",
   "execution_count": 16,
   "id": "6fea1915",
   "metadata": {},
   "outputs": [
    {
     "data": {
      "text/plain": [
       "array(['11.95', '99.99', '600', '11.99', '1700', '14.95', '389.99',\n",
       "       '3.84', '150', '2.99', '700', '300', '149.99', '109.99', '600.0',\n",
       "       '999.99', '400', '379.99', '700.0', '1700.0', '150.0', '300.0',\n",
       "       '400.0'], dtype=object)"
      ]
     },
     "execution_count": 16,
     "metadata": {},
     "output_type": "execute_result"
    }
   ],
   "source": [
    "combined_df[\"Price Each\"].unique()"
   ]
  },
  {
   "cell_type": "code",
   "execution_count": 17,
   "id": "dfb24cc5",
   "metadata": {},
   "outputs": [
    {
     "data": {
      "text/plain": [
       "array(['04/19/19 08:46', '04/07/19 22:30', '04/12/19 14:38', ...,\n",
       "       '09/23/19 07:39', '09/19/19 17:30', '09/30/19 00:18'], dtype=object)"
      ]
     },
     "execution_count": 17,
     "metadata": {},
     "output_type": "execute_result"
    }
   ],
   "source": [
    "combined_df[\"Order Date\"].unique()"
   ]
  },
  {
   "cell_type": "code",
   "execution_count": 18,
   "id": "687a9062",
   "metadata": {},
   "outputs": [
    {
     "data": {
      "text/plain": [
       "array(['917 1st St, Dallas, TX 75001',\n",
       "       '682 Chestnut St, Boston, MA 02215',\n",
       "       '669 Spruce St, Los Angeles, CA 90001', ...,\n",
       "       '981 4th St, New York City, NY 10001',\n",
       "       '840 Highland St, Los Angeles, CA 90001',\n",
       "       '220 12th St, San Francisco, CA 94016'], dtype=object)"
      ]
     },
     "execution_count": 18,
     "metadata": {},
     "output_type": "execute_result"
    }
   ],
   "source": [
    "combined_df[\"Purchase Address\"].unique()"
   ]
  },
  {
   "cell_type": "markdown",
   "id": "68dd9d6c",
   "metadata": {},
   "source": [
    "# checking for duplicate values"
   ]
  },
  {
   "cell_type": "code",
   "execution_count": 19,
   "id": "20809e2c",
   "metadata": {},
   "outputs": [
    {
     "data": {
      "text/html": [
       "<div>\n",
       "<style scoped>\n",
       "    .dataframe tbody tr th:only-of-type {\n",
       "        vertical-align: middle;\n",
       "    }\n",
       "\n",
       "    .dataframe tbody tr th {\n",
       "        vertical-align: top;\n",
       "    }\n",
       "\n",
       "    .dataframe thead th {\n",
       "        text-align: right;\n",
       "    }\n",
       "</style>\n",
       "<table border=\"1\" class=\"dataframe\">\n",
       "  <thead>\n",
       "    <tr style=\"text-align: right;\">\n",
       "      <th></th>\n",
       "      <th>Order ID</th>\n",
       "      <th>Product</th>\n",
       "      <th>Quantity Ordered</th>\n",
       "      <th>Price Each</th>\n",
       "      <th>Order Date</th>\n",
       "      <th>Purchase Address</th>\n",
       "    </tr>\n",
       "  </thead>\n",
       "  <tbody>\n",
       "    <tr>\n",
       "      <th>30</th>\n",
       "      <td>176585</td>\n",
       "      <td>Bose SoundSport Headphones</td>\n",
       "      <td>1</td>\n",
       "      <td>99.99</td>\n",
       "      <td>04/07/19 11:31</td>\n",
       "      <td>823 Highland St, Boston, MA 02215</td>\n",
       "    </tr>\n",
       "    <tr>\n",
       "      <th>31</th>\n",
       "      <td>176585</td>\n",
       "      <td>Bose SoundSport Headphones</td>\n",
       "      <td>1</td>\n",
       "      <td>99.99</td>\n",
       "      <td>04/07/19 11:31</td>\n",
       "      <td>823 Highland St, Boston, MA 02215</td>\n",
       "    </tr>\n",
       "    <tr>\n",
       "      <th>1301</th>\n",
       "      <td>177795</td>\n",
       "      <td>Apple Airpods Headphones</td>\n",
       "      <td>1</td>\n",
       "      <td>150</td>\n",
       "      <td>04/27/19 19:45</td>\n",
       "      <td>740 14th St, Seattle, WA 98101</td>\n",
       "    </tr>\n",
       "    <tr>\n",
       "      <th>1302</th>\n",
       "      <td>177795</td>\n",
       "      <td>Apple Airpods Headphones</td>\n",
       "      <td>1</td>\n",
       "      <td>150</td>\n",
       "      <td>04/27/19 19:45</td>\n",
       "      <td>740 14th St, Seattle, WA 98101</td>\n",
       "    </tr>\n",
       "    <tr>\n",
       "      <th>1682</th>\n",
       "      <td>178158</td>\n",
       "      <td>USB-C Charging Cable</td>\n",
       "      <td>1</td>\n",
       "      <td>11.95</td>\n",
       "      <td>04/28/19 21:13</td>\n",
       "      <td>197 Center St, San Francisco, CA 94016</td>\n",
       "    </tr>\n",
       "    <tr>\n",
       "      <th>...</th>\n",
       "      <td>...</td>\n",
       "      <td>...</td>\n",
       "      <td>...</td>\n",
       "      <td>...</td>\n",
       "      <td>...</td>\n",
       "      <td>...</td>\n",
       "    </tr>\n",
       "    <tr>\n",
       "      <th>186508</th>\n",
       "      <td>259035</td>\n",
       "      <td>27in FHD Monitor</td>\n",
       "      <td>1</td>\n",
       "      <td>149.99</td>\n",
       "      <td>09/29/19 13:52</td>\n",
       "      <td>327 Lake St, San Francisco, CA 94016</td>\n",
       "    </tr>\n",
       "    <tr>\n",
       "      <th>186781</th>\n",
       "      <td>259296</td>\n",
       "      <td>Apple Airpods Headphones</td>\n",
       "      <td>1</td>\n",
       "      <td>150</td>\n",
       "      <td>09/28/19 16:48</td>\n",
       "      <td>894 6th St, Dallas, TX 75001</td>\n",
       "    </tr>\n",
       "    <tr>\n",
       "      <th>186782</th>\n",
       "      <td>259296</td>\n",
       "      <td>Apple Airpods Headphones</td>\n",
       "      <td>1</td>\n",
       "      <td>150</td>\n",
       "      <td>09/28/19 16:48</td>\n",
       "      <td>894 6th St, Dallas, TX 75001</td>\n",
       "    </tr>\n",
       "    <tr>\n",
       "      <th>186784</th>\n",
       "      <td>259297</td>\n",
       "      <td>Lightning Charging Cable</td>\n",
       "      <td>1</td>\n",
       "      <td>14.95</td>\n",
       "      <td>09/15/19 18:54</td>\n",
       "      <td>138 Main St, Boston, MA 02215</td>\n",
       "    </tr>\n",
       "    <tr>\n",
       "      <th>186785</th>\n",
       "      <td>259297</td>\n",
       "      <td>Lightning Charging Cable</td>\n",
       "      <td>1</td>\n",
       "      <td>14.95</td>\n",
       "      <td>09/15/19 18:54</td>\n",
       "      <td>138 Main St, Boston, MA 02215</td>\n",
       "    </tr>\n",
       "  </tbody>\n",
       "</table>\n",
       "<p>528 rows × 6 columns</p>\n",
       "</div>"
      ],
      "text/plain": [
       "       Order ID                     Product Quantity Ordered Price Each  \\\n",
       "30       176585  Bose SoundSport Headphones                1      99.99   \n",
       "31       176585  Bose SoundSport Headphones                1      99.99   \n",
       "1301     177795    Apple Airpods Headphones                1        150   \n",
       "1302     177795    Apple Airpods Headphones                1        150   \n",
       "1682     178158        USB-C Charging Cable                1      11.95   \n",
       "...         ...                         ...              ...        ...   \n",
       "186508   259035            27in FHD Monitor                1     149.99   \n",
       "186781   259296    Apple Airpods Headphones                1        150   \n",
       "186782   259296    Apple Airpods Headphones                1        150   \n",
       "186784   259297    Lightning Charging Cable                1      14.95   \n",
       "186785   259297    Lightning Charging Cable                1      14.95   \n",
       "\n",
       "            Order Date                        Purchase Address  \n",
       "30      04/07/19 11:31       823 Highland St, Boston, MA 02215  \n",
       "31      04/07/19 11:31       823 Highland St, Boston, MA 02215  \n",
       "1301    04/27/19 19:45          740 14th St, Seattle, WA 98101  \n",
       "1302    04/27/19 19:45          740 14th St, Seattle, WA 98101  \n",
       "1682    04/28/19 21:13  197 Center St, San Francisco, CA 94016  \n",
       "...                ...                                     ...  \n",
       "186508  09/29/19 13:52    327 Lake St, San Francisco, CA 94016  \n",
       "186781  09/28/19 16:48            894 6th St, Dallas, TX 75001  \n",
       "186782  09/28/19 16:48            894 6th St, Dallas, TX 75001  \n",
       "186784  09/15/19 18:54           138 Main St, Boston, MA 02215  \n",
       "186785  09/15/19 18:54           138 Main St, Boston, MA 02215  \n",
       "\n",
       "[528 rows x 6 columns]"
      ]
     },
     "execution_count": 19,
     "metadata": {},
     "output_type": "execute_result"
    }
   ],
   "source": [
    "#checking for duplicate values\n",
    "combined_df[combined_df.duplicated(keep=False)]"
   ]
  },
  {
   "cell_type": "markdown",
   "id": "d1e93fea",
   "metadata": {},
   "source": [
    "# remove duplicate values"
   ]
  },
  {
   "cell_type": "code",
   "execution_count": 20,
   "id": "9a283ea6",
   "metadata": {},
   "outputs": [],
   "source": [
    "#delete duplicate data\n",
    "combined_df.drop_duplicates(inplace=True)"
   ]
  },
  {
   "cell_type": "code",
   "execution_count": 21,
   "id": "aab22ffc",
   "metadata": {},
   "outputs": [
    {
     "name": "stdout",
     "output_type": "stream",
     "text": [
      "<class 'pandas.core.frame.DataFrame'>\n",
      "Int64Index: 185686 entries, 0 to 186849\n",
      "Data columns (total 6 columns):\n",
      " #   Column            Non-Null Count   Dtype \n",
      "---  ------            --------------   ----- \n",
      " 0   Order ID          185686 non-null  object\n",
      " 1   Product           185686 non-null  object\n",
      " 2   Quantity Ordered  185686 non-null  object\n",
      " 3   Price Each        185686 non-null  object\n",
      " 4   Order Date        185686 non-null  object\n",
      " 5   Purchase Address  185686 non-null  object\n",
      "dtypes: object(6)\n",
      "memory usage: 9.9+ MB\n"
     ]
    }
   ],
   "source": [
    "combined_df.info()"
   ]
  },
  {
   "cell_type": "markdown",
   "id": "c3ffd11f",
   "metadata": {},
   "source": [
    "# checking for wrong datatype format"
   ]
  },
  {
   "cell_type": "code",
   "execution_count": 22,
   "id": "22f6caf6",
   "metadata": {},
   "outputs": [],
   "source": [
    "#converting all the columns in their various datatypes\n",
    "combined_df= combined_df.astype({\"Order ID\": str,\"Product\":str,\"Quantity Ordered\":int,\"Price Each\":float,\"Purchase Address\":str})"
   ]
  },
  {
   "cell_type": "code",
   "execution_count": 23,
   "id": "e7868fb3",
   "metadata": {},
   "outputs": [],
   "source": [
    "#convert ordered date data type to DateTime\n",
    "combined_df[\"Order Date\"]= pd.to_datetime(combined_df[\"Order Date\"])"
   ]
  },
  {
   "cell_type": "code",
   "execution_count": 24,
   "id": "a33988a1",
   "metadata": {},
   "outputs": [
    {
     "name": "stdout",
     "output_type": "stream",
     "text": [
      "<class 'pandas.core.frame.DataFrame'>\n",
      "Int64Index: 185686 entries, 0 to 186849\n",
      "Data columns (total 6 columns):\n",
      " #   Column            Non-Null Count   Dtype         \n",
      "---  ------            --------------   -----         \n",
      " 0   Order ID          185686 non-null  object        \n",
      " 1   Product           185686 non-null  object        \n",
      " 2   Quantity Ordered  185686 non-null  int32         \n",
      " 3   Price Each        185686 non-null  float64       \n",
      " 4   Order Date        185686 non-null  datetime64[ns]\n",
      " 5   Purchase Address  185686 non-null  object        \n",
      "dtypes: datetime64[ns](1), float64(1), int32(1), object(3)\n",
      "memory usage: 9.2+ MB\n"
     ]
    }
   ],
   "source": [
    "combined_df.info()"
   ]
  },
  {
   "cell_type": "markdown",
   "id": "cec50e34",
   "metadata": {},
   "source": [
    "Haven cleaned up the data , we can now respond to the business objectives.\n"
   ]
  },
  {
   "cell_type": "markdown",
   "id": "62058fb9",
   "metadata": {},
   "source": [
    "## 1. General summary of the dataset (summary and averages of each column)"
   ]
  },
  {
   "cell_type": "code",
   "execution_count": 25,
   "id": "0020d9f7",
   "metadata": {},
   "outputs": [
    {
     "data": {
      "text/html": [
       "<div>\n",
       "<style scoped>\n",
       "    .dataframe tbody tr th:only-of-type {\n",
       "        vertical-align: middle;\n",
       "    }\n",
       "\n",
       "    .dataframe tbody tr th {\n",
       "        vertical-align: top;\n",
       "    }\n",
       "\n",
       "    .dataframe thead th {\n",
       "        text-align: right;\n",
       "    }\n",
       "</style>\n",
       "<table border=\"1\" class=\"dataframe\">\n",
       "  <thead>\n",
       "    <tr style=\"text-align: right;\">\n",
       "      <th></th>\n",
       "      <th>Quantity Ordered</th>\n",
       "      <th>Price Each</th>\n",
       "    </tr>\n",
       "  </thead>\n",
       "  <tbody>\n",
       "    <tr>\n",
       "      <th>count</th>\n",
       "      <td>185686.000000</td>\n",
       "      <td>185686.000000</td>\n",
       "    </tr>\n",
       "    <tr>\n",
       "      <th>mean</th>\n",
       "      <td>1.124544</td>\n",
       "      <td>184.519255</td>\n",
       "    </tr>\n",
       "    <tr>\n",
       "      <th>std</th>\n",
       "      <td>0.443069</td>\n",
       "      <td>332.843838</td>\n",
       "    </tr>\n",
       "    <tr>\n",
       "      <th>min</th>\n",
       "      <td>1.000000</td>\n",
       "      <td>2.990000</td>\n",
       "    </tr>\n",
       "    <tr>\n",
       "      <th>25%</th>\n",
       "      <td>1.000000</td>\n",
       "      <td>11.950000</td>\n",
       "    </tr>\n",
       "    <tr>\n",
       "      <th>50%</th>\n",
       "      <td>1.000000</td>\n",
       "      <td>14.950000</td>\n",
       "    </tr>\n",
       "    <tr>\n",
       "      <th>75%</th>\n",
       "      <td>1.000000</td>\n",
       "      <td>150.000000</td>\n",
       "    </tr>\n",
       "    <tr>\n",
       "      <th>max</th>\n",
       "      <td>9.000000</td>\n",
       "      <td>1700.000000</td>\n",
       "    </tr>\n",
       "  </tbody>\n",
       "</table>\n",
       "</div>"
      ],
      "text/plain": [
       "       Quantity Ordered     Price Each\n",
       "count     185686.000000  185686.000000\n",
       "mean           1.124544     184.519255\n",
       "std            0.443069     332.843838\n",
       "min            1.000000       2.990000\n",
       "25%            1.000000      11.950000\n",
       "50%            1.000000      14.950000\n",
       "75%            1.000000     150.000000\n",
       "max            9.000000    1700.000000"
      ]
     },
     "execution_count": 25,
     "metadata": {},
     "output_type": "execute_result"
    }
   ],
   "source": [
    "#General summary of the dataset (summary and averages of each column)\n",
    "combined_df.describe()"
   ]
  },
  {
   "cell_type": "code",
   "execution_count": 26,
   "id": "ba16cf19",
   "metadata": {},
   "outputs": [
    {
     "name": "stdout",
     "output_type": "stream",
     "text": [
      "<class 'pandas.core.frame.DataFrame'>\n",
      "Int64Index: 185686 entries, 0 to 186849\n",
      "Data columns (total 6 columns):\n",
      " #   Column            Non-Null Count   Dtype         \n",
      "---  ------            --------------   -----         \n",
      " 0   Order ID          185686 non-null  object        \n",
      " 1   Product           185686 non-null  object        \n",
      " 2   Quantity Ordered  185686 non-null  int32         \n",
      " 3   Price Each        185686 non-null  float64       \n",
      " 4   Order Date        185686 non-null  datetime64[ns]\n",
      " 5   Purchase Address  185686 non-null  object        \n",
      "dtypes: datetime64[ns](1), float64(1), int32(1), object(3)\n",
      "memory usage: 9.2+ MB\n"
     ]
    }
   ],
   "source": [
    "combined_df.info()"
   ]
  },
  {
   "cell_type": "code",
   "execution_count": 27,
   "id": "7d9967e1",
   "metadata": {},
   "outputs": [
    {
     "data": {
      "text/html": [
       "<div>\n",
       "<style scoped>\n",
       "    .dataframe tbody tr th:only-of-type {\n",
       "        vertical-align: middle;\n",
       "    }\n",
       "\n",
       "    .dataframe tbody tr th {\n",
       "        vertical-align: top;\n",
       "    }\n",
       "\n",
       "    .dataframe thead th {\n",
       "        text-align: right;\n",
       "    }\n",
       "</style>\n",
       "<table border=\"1\" class=\"dataframe\">\n",
       "  <thead>\n",
       "    <tr style=\"text-align: right;\">\n",
       "      <th></th>\n",
       "      <th>Quantity Ordered</th>\n",
       "      <th>Price Each</th>\n",
       "    </tr>\n",
       "  </thead>\n",
       "  <tbody>\n",
       "    <tr>\n",
       "      <th>Quantity Ordered</th>\n",
       "      <td>1.000000</td>\n",
       "      <td>-0.148422</td>\n",
       "    </tr>\n",
       "    <tr>\n",
       "      <th>Price Each</th>\n",
       "      <td>-0.148422</td>\n",
       "      <td>1.000000</td>\n",
       "    </tr>\n",
       "  </tbody>\n",
       "</table>\n",
       "</div>"
      ],
      "text/plain": [
       "                  Quantity Ordered  Price Each\n",
       "Quantity Ordered          1.000000   -0.148422\n",
       "Price Each               -0.148422    1.000000"
      ]
     },
     "execution_count": 27,
     "metadata": {},
     "output_type": "execute_result"
    }
   ],
   "source": [
    "combined_df.corr()"
   ]
  },
  {
   "cell_type": "markdown",
   "id": "931d9001",
   "metadata": {},
   "source": [
    "from the above analysis the general summary of the dataset was derived by .describe(), .info() and .corr() methods respectively\n",
    "after the data have been cleaned. (N\\b : Price Each have a strong correlation with Total Sales)"
   ]
  },
  {
   "cell_type": "markdown",
   "id": "ce453b3d",
   "metadata": {},
   "source": [
    "##  2.The months with the highest and lowest sales"
   ]
  },
  {
   "cell_type": "code",
   "execution_count": 28,
   "id": "205ebc16",
   "metadata": {},
   "outputs": [
    {
     "data": {
      "text/html": [
       "<div>\n",
       "<style scoped>\n",
       "    .dataframe tbody tr th:only-of-type {\n",
       "        vertical-align: middle;\n",
       "    }\n",
       "\n",
       "    .dataframe tbody tr th {\n",
       "        vertical-align: top;\n",
       "    }\n",
       "\n",
       "    .dataframe thead th {\n",
       "        text-align: right;\n",
       "    }\n",
       "</style>\n",
       "<table border=\"1\" class=\"dataframe\">\n",
       "  <thead>\n",
       "    <tr style=\"text-align: right;\">\n",
       "      <th></th>\n",
       "      <th>Order ID</th>\n",
       "      <th>Product</th>\n",
       "      <th>Quantity Ordered</th>\n",
       "      <th>Price Each</th>\n",
       "      <th>Order Date</th>\n",
       "      <th>Purchase Address</th>\n",
       "      <th>Total Sales</th>\n",
       "    </tr>\n",
       "  </thead>\n",
       "  <tbody>\n",
       "    <tr>\n",
       "      <th>0</th>\n",
       "      <td>176558</td>\n",
       "      <td>USB-C Charging Cable</td>\n",
       "      <td>2</td>\n",
       "      <td>11.95</td>\n",
       "      <td>2019-04-19 08:46:00</td>\n",
       "      <td>917 1st St, Dallas, TX 75001</td>\n",
       "      <td>23.90</td>\n",
       "    </tr>\n",
       "    <tr>\n",
       "      <th>2</th>\n",
       "      <td>176559</td>\n",
       "      <td>Bose SoundSport Headphones</td>\n",
       "      <td>1</td>\n",
       "      <td>99.99</td>\n",
       "      <td>2019-04-07 22:30:00</td>\n",
       "      <td>682 Chestnut St, Boston, MA 02215</td>\n",
       "      <td>99.99</td>\n",
       "    </tr>\n",
       "    <tr>\n",
       "      <th>3</th>\n",
       "      <td>176560</td>\n",
       "      <td>Google Phone</td>\n",
       "      <td>1</td>\n",
       "      <td>600.00</td>\n",
       "      <td>2019-04-12 14:38:00</td>\n",
       "      <td>669 Spruce St, Los Angeles, CA 90001</td>\n",
       "      <td>600.00</td>\n",
       "    </tr>\n",
       "    <tr>\n",
       "      <th>4</th>\n",
       "      <td>176560</td>\n",
       "      <td>Wired Headphones</td>\n",
       "      <td>1</td>\n",
       "      <td>11.99</td>\n",
       "      <td>2019-04-12 14:38:00</td>\n",
       "      <td>669 Spruce St, Los Angeles, CA 90001</td>\n",
       "      <td>11.99</td>\n",
       "    </tr>\n",
       "    <tr>\n",
       "      <th>5</th>\n",
       "      <td>176561</td>\n",
       "      <td>Wired Headphones</td>\n",
       "      <td>1</td>\n",
       "      <td>11.99</td>\n",
       "      <td>2019-04-30 09:27:00</td>\n",
       "      <td>333 8th St, Los Angeles, CA 90001</td>\n",
       "      <td>11.99</td>\n",
       "    </tr>\n",
       "  </tbody>\n",
       "</table>\n",
       "</div>"
      ],
      "text/plain": [
       "  Order ID                     Product  Quantity Ordered  Price Each  \\\n",
       "0   176558        USB-C Charging Cable                 2       11.95   \n",
       "2   176559  Bose SoundSport Headphones                 1       99.99   \n",
       "3   176560                Google Phone                 1      600.00   \n",
       "4   176560            Wired Headphones                 1       11.99   \n",
       "5   176561            Wired Headphones                 1       11.99   \n",
       "\n",
       "           Order Date                      Purchase Address  Total Sales  \n",
       "0 2019-04-19 08:46:00          917 1st St, Dallas, TX 75001        23.90  \n",
       "2 2019-04-07 22:30:00     682 Chestnut St, Boston, MA 02215        99.99  \n",
       "3 2019-04-12 14:38:00  669 Spruce St, Los Angeles, CA 90001       600.00  \n",
       "4 2019-04-12 14:38:00  669 Spruce St, Los Angeles, CA 90001        11.99  \n",
       "5 2019-04-30 09:27:00     333 8th St, Los Angeles, CA 90001        11.99  "
      ]
     },
     "execution_count": 28,
     "metadata": {},
     "output_type": "execute_result"
    }
   ],
   "source": [
    "\n",
    "#calculations to derive  total sales\n",
    "combined_df[\"Total Sales\"] = combined_df[\"Quantity Ordered\"] * combined_df[\"Price Each\"]\n",
    "\n",
    "combined_df.head()"
   ]
  },
  {
   "cell_type": "code",
   "execution_count": 29,
   "id": "8e56151f",
   "metadata": {},
   "outputs": [
    {
     "data": {
      "text/html": [
       "<div>\n",
       "<style scoped>\n",
       "    .dataframe tbody tr th:only-of-type {\n",
       "        vertical-align: middle;\n",
       "    }\n",
       "\n",
       "    .dataframe tbody tr th {\n",
       "        vertical-align: top;\n",
       "    }\n",
       "\n",
       "    .dataframe thead th {\n",
       "        text-align: right;\n",
       "    }\n",
       "</style>\n",
       "<table border=\"1\" class=\"dataframe\">\n",
       "  <thead>\n",
       "    <tr style=\"text-align: right;\">\n",
       "      <th></th>\n",
       "      <th>Order ID</th>\n",
       "      <th>Product</th>\n",
       "      <th>Quantity Ordered</th>\n",
       "      <th>Price Each</th>\n",
       "      <th>Order Date</th>\n",
       "      <th>Purchase Address</th>\n",
       "      <th>Total Sales</th>\n",
       "      <th>Month</th>\n",
       "    </tr>\n",
       "  </thead>\n",
       "  <tbody>\n",
       "    <tr>\n",
       "      <th>0</th>\n",
       "      <td>176558</td>\n",
       "      <td>USB-C Charging Cable</td>\n",
       "      <td>2</td>\n",
       "      <td>11.95</td>\n",
       "      <td>2019-04-19 08:46:00</td>\n",
       "      <td>917 1st St, Dallas, TX 75001</td>\n",
       "      <td>23.90</td>\n",
       "      <td>April</td>\n",
       "    </tr>\n",
       "    <tr>\n",
       "      <th>2</th>\n",
       "      <td>176559</td>\n",
       "      <td>Bose SoundSport Headphones</td>\n",
       "      <td>1</td>\n",
       "      <td>99.99</td>\n",
       "      <td>2019-04-07 22:30:00</td>\n",
       "      <td>682 Chestnut St, Boston, MA 02215</td>\n",
       "      <td>99.99</td>\n",
       "      <td>April</td>\n",
       "    </tr>\n",
       "    <tr>\n",
       "      <th>3</th>\n",
       "      <td>176560</td>\n",
       "      <td>Google Phone</td>\n",
       "      <td>1</td>\n",
       "      <td>600.00</td>\n",
       "      <td>2019-04-12 14:38:00</td>\n",
       "      <td>669 Spruce St, Los Angeles, CA 90001</td>\n",
       "      <td>600.00</td>\n",
       "      <td>April</td>\n",
       "    </tr>\n",
       "    <tr>\n",
       "      <th>4</th>\n",
       "      <td>176560</td>\n",
       "      <td>Wired Headphones</td>\n",
       "      <td>1</td>\n",
       "      <td>11.99</td>\n",
       "      <td>2019-04-12 14:38:00</td>\n",
       "      <td>669 Spruce St, Los Angeles, CA 90001</td>\n",
       "      <td>11.99</td>\n",
       "      <td>April</td>\n",
       "    </tr>\n",
       "    <tr>\n",
       "      <th>5</th>\n",
       "      <td>176561</td>\n",
       "      <td>Wired Headphones</td>\n",
       "      <td>1</td>\n",
       "      <td>11.99</td>\n",
       "      <td>2019-04-30 09:27:00</td>\n",
       "      <td>333 8th St, Los Angeles, CA 90001</td>\n",
       "      <td>11.99</td>\n",
       "      <td>April</td>\n",
       "    </tr>\n",
       "  </tbody>\n",
       "</table>\n",
       "</div>"
      ],
      "text/plain": [
       "  Order ID                     Product  Quantity Ordered  Price Each  \\\n",
       "0   176558        USB-C Charging Cable                 2       11.95   \n",
       "2   176559  Bose SoundSport Headphones                 1       99.99   \n",
       "3   176560                Google Phone                 1      600.00   \n",
       "4   176560            Wired Headphones                 1       11.99   \n",
       "5   176561            Wired Headphones                 1       11.99   \n",
       "\n",
       "           Order Date                      Purchase Address  Total Sales  \\\n",
       "0 2019-04-19 08:46:00          917 1st St, Dallas, TX 75001        23.90   \n",
       "2 2019-04-07 22:30:00     682 Chestnut St, Boston, MA 02215        99.99   \n",
       "3 2019-04-12 14:38:00  669 Spruce St, Los Angeles, CA 90001       600.00   \n",
       "4 2019-04-12 14:38:00  669 Spruce St, Los Angeles, CA 90001        11.99   \n",
       "5 2019-04-30 09:27:00     333 8th St, Los Angeles, CA 90001        11.99   \n",
       "\n",
       "   Month  \n",
       "0  April  \n",
       "2  April  \n",
       "3  April  \n",
       "4  April  \n",
       "5  April  "
      ]
     },
     "execution_count": 29,
     "metadata": {},
     "output_type": "execute_result"
    }
   ],
   "source": [
    "# obtaining  column for month name\n",
    "combined_df[\"Month\"] = combined_df[\"Order Date\"].dt.month_name()\n",
    "combined_df.head()"
   ]
  },
  {
   "cell_type": "code",
   "execution_count": 30,
   "id": "ad508b1e",
   "metadata": {},
   "outputs": [
    {
     "name": "stdout",
     "output_type": "stream",
     "text": [
      "Month\n",
      "December     4.608296e+06\n",
      "October      3.734778e+06\n",
      "April        3.389218e+06\n",
      "November     3.197875e+06\n",
      "May          3.150616e+06\n",
      "March        2.804973e+06\n",
      "July         2.646461e+06\n",
      "June         2.576280e+06\n",
      "August       2.241083e+06\n",
      "February     2.200078e+06\n",
      "September    2.094466e+06\n",
      "January      1.821413e+06\n",
      "Name: Total Sales, dtype: float64\n",
      "The Highest Monthly Sales: December\n",
      "The Lowest Monthly Sales: January\n"
     ]
    }
   ],
   "source": [
    "#The months with the highest and lowest sales\n",
    "#calculating total sales for each month, (sorted in the order of high sales)\n",
    "monthly_sales =combined_df.groupby([\"Month\"])[\"Total Sales\"].sum().sort_values(ascending=False)\n",
    "print(monthly_sales)\n",
    "print(f\"The Highest Monthly Sales: {monthly_sales.idxmax()}\")\n",
    "print(f\"The Lowest Monthly Sales: {monthly_sales.idxmin()}\")"
   ]
  },
  {
   "cell_type": "code",
   "execution_count": 31,
   "id": "14ce235c",
   "metadata": {},
   "outputs": [
    {
     "data": {
      "text/plain": [
       "Index(['December', 'October', 'April', 'November', 'May', 'March', 'July',\n",
       "       'June', 'August', 'February', 'September', 'January'],\n",
       "      dtype='object', name='Month')"
      ]
     },
     "execution_count": 31,
     "metadata": {},
     "output_type": "execute_result"
    }
   ],
   "source": [
    "monthly_sales.index"
   ]
  },
  {
   "cell_type": "code",
   "execution_count": 32,
   "id": "4dcb56a6",
   "metadata": {},
   "outputs": [
    {
     "data": {
      "image/png": "[encoded data removed]",
      "text/plain": [
       "<Figure size 720x576 with 1 Axes>"
      ]
     },
     "metadata": {
      "needs_background": "light"
     },
     "output_type": "display_data"
    }
   ],
   "source": [
    "#Visualization\n",
    "\n",
    "plt.figure(figsize=(10,8))\n",
    "plt.grid(True)\n",
    "#plot the bar chart\n",
    "plt.bar(monthly_sales.index, monthly_sales.values)\n",
    "\n",
    "\n",
    "#insert chart title\n",
    "plt.title(\"Month with the highest sale\")\n",
    "\n",
    "#rotate the label of the x axis\n",
    "plt.xticks(rotation = 90)\n",
    "\n",
    "#Display the plot\n",
    "plt.show()"
   ]
  },
  {
   "cell_type": "markdown",
   "id": "b4a214b7",
   "metadata": {},
   "source": [
    "### The month with the highest sale is December, the month with the lowest sale is January"
   ]
  },
  {
   "cell_type": "code",
   "execution_count": null,
   "id": "ffed0e6a",
   "metadata": {},
   "outputs": [],
   "source": []
  },
  {
   "cell_type": "markdown",
   "id": "d5a0409f",
   "metadata": {},
   "source": [
    "## 3.Average monthly sales per city"
   ]
  },
  {
   "cell_type": "code",
   "execution_count": 33,
   "id": "cd121ce4",
   "metadata": {},
   "outputs": [],
   "source": [
    "#creating column for just the city\n",
    "combined_df[\"City\"]= combined_df[\"Purchase Address\"].str.split(\",\",expand=True)[1]\n"
   ]
  },
  {
   "cell_type": "code",
   "execution_count": 34,
   "id": "9e81df61",
   "metadata": {},
   "outputs": [
    {
     "data": {
      "text/html": [
       "<div>\n",
       "<style scoped>\n",
       "    .dataframe tbody tr th:only-of-type {\n",
       "        vertical-align: middle;\n",
       "    }\n",
       "\n",
       "    .dataframe tbody tr th {\n",
       "        vertical-align: top;\n",
       "    }\n",
       "\n",
       "    .dataframe thead th {\n",
       "        text-align: right;\n",
       "    }\n",
       "</style>\n",
       "<table border=\"1\" class=\"dataframe\">\n",
       "  <thead>\n",
       "    <tr style=\"text-align: right;\">\n",
       "      <th></th>\n",
       "      <th>Order ID</th>\n",
       "      <th>Product</th>\n",
       "      <th>Quantity Ordered</th>\n",
       "      <th>Price Each</th>\n",
       "      <th>Order Date</th>\n",
       "      <th>Purchase Address</th>\n",
       "      <th>Total Sales</th>\n",
       "      <th>Month</th>\n",
       "      <th>City</th>\n",
       "    </tr>\n",
       "  </thead>\n",
       "  <tbody>\n",
       "    <tr>\n",
       "      <th>0</th>\n",
       "      <td>176558</td>\n",
       "      <td>USB-C Charging Cable</td>\n",
       "      <td>2</td>\n",
       "      <td>11.95</td>\n",
       "      <td>2019-04-19 08:46:00</td>\n",
       "      <td>917 1st St, Dallas, TX 75001</td>\n",
       "      <td>23.90</td>\n",
       "      <td>April</td>\n",
       "      <td>Dallas</td>\n",
       "    </tr>\n",
       "    <tr>\n",
       "      <th>2</th>\n",
       "      <td>176559</td>\n",
       "      <td>Bose SoundSport Headphones</td>\n",
       "      <td>1</td>\n",
       "      <td>99.99</td>\n",
       "      <td>2019-04-07 22:30:00</td>\n",
       "      <td>682 Chestnut St, Boston, MA 02215</td>\n",
       "      <td>99.99</td>\n",
       "      <td>April</td>\n",
       "      <td>Boston</td>\n",
       "    </tr>\n",
       "    <tr>\n",
       "      <th>3</th>\n",
       "      <td>176560</td>\n",
       "      <td>Google Phone</td>\n",
       "      <td>1</td>\n",
       "      <td>600.00</td>\n",
       "      <td>2019-04-12 14:38:00</td>\n",
       "      <td>669 Spruce St, Los Angeles, CA 90001</td>\n",
       "      <td>600.00</td>\n",
       "      <td>April</td>\n",
       "      <td>Los Angeles</td>\n",
       "    </tr>\n",
       "    <tr>\n",
       "      <th>4</th>\n",
       "      <td>176560</td>\n",
       "      <td>Wired Headphones</td>\n",
       "      <td>1</td>\n",
       "      <td>11.99</td>\n",
       "      <td>2019-04-12 14:38:00</td>\n",
       "      <td>669 Spruce St, Los Angeles, CA 90001</td>\n",
       "      <td>11.99</td>\n",
       "      <td>April</td>\n",
       "      <td>Los Angeles</td>\n",
       "    </tr>\n",
       "    <tr>\n",
       "      <th>5</th>\n",
       "      <td>176561</td>\n",
       "      <td>Wired Headphones</td>\n",
       "      <td>1</td>\n",
       "      <td>11.99</td>\n",
       "      <td>2019-04-30 09:27:00</td>\n",
       "      <td>333 8th St, Los Angeles, CA 90001</td>\n",
       "      <td>11.99</td>\n",
       "      <td>April</td>\n",
       "      <td>Los Angeles</td>\n",
       "    </tr>\n",
       "  </tbody>\n",
       "</table>\n",
       "</div>"
      ],
      "text/plain": [
       "  Order ID                     Product  Quantity Ordered  Price Each  \\\n",
       "0   176558        USB-C Charging Cable                 2       11.95   \n",
       "2   176559  Bose SoundSport Headphones                 1       99.99   \n",
       "3   176560                Google Phone                 1      600.00   \n",
       "4   176560            Wired Headphones                 1       11.99   \n",
       "5   176561            Wired Headphones                 1       11.99   \n",
       "\n",
       "           Order Date                      Purchase Address  Total Sales  \\\n",
       "0 2019-04-19 08:46:00          917 1st St, Dallas, TX 75001        23.90   \n",
       "2 2019-04-07 22:30:00     682 Chestnut St, Boston, MA 02215        99.99   \n",
       "3 2019-04-12 14:38:00  669 Spruce St, Los Angeles, CA 90001       600.00   \n",
       "4 2019-04-12 14:38:00  669 Spruce St, Los Angeles, CA 90001        11.99   \n",
       "5 2019-04-30 09:27:00     333 8th St, Los Angeles, CA 90001        11.99   \n",
       "\n",
       "   Month          City  \n",
       "0  April        Dallas  \n",
       "2  April        Boston  \n",
       "3  April   Los Angeles  \n",
       "4  April   Los Angeles  \n",
       "5  April   Los Angeles  "
      ]
     },
     "execution_count": 34,
     "metadata": {},
     "output_type": "execute_result"
    }
   ],
   "source": [
    "combined_df.head()"
   ]
  },
  {
   "cell_type": "code",
   "execution_count": 35,
   "id": "ef0335ac",
   "metadata": {},
   "outputs": [
    {
     "data": {
      "text/plain": [
       "array([' Dallas', ' Boston', ' Los Angeles', ' San Francisco', ' Seattle',\n",
       "       ' Atlanta', ' New York City', ' Portland', ' Austin'], dtype=object)"
      ]
     },
     "execution_count": 35,
     "metadata": {},
     "output_type": "execute_result"
    }
   ],
   "source": [
    "#checking all the unique entries for state\n",
    "combined_df[\"City\"].unique()"
   ]
  },
  {
   "cell_type": "code",
   "execution_count": 36,
   "id": "9e49b47b",
   "metadata": {},
   "outputs": [
    {
     "data": {
      "text/plain": [
       "0                 Dallas\n",
       "2                 Boston\n",
       "3            Los Angeles\n",
       "4            Los Angeles\n",
       "5            Los Angeles\n",
       "               ...      \n",
       "186845       Los Angeles\n",
       "186846     San Francisco\n",
       "186847     San Francisco\n",
       "186848     San Francisco\n",
       "186849     San Francisco\n",
       "Name: City, Length: 185686, dtype: object"
      ]
     },
     "execution_count": 36,
     "metadata": {},
     "output_type": "execute_result"
    }
   ],
   "source": [
    "combined_df[\"City\"]"
   ]
  },
  {
   "cell_type": "code",
   "execution_count": 37,
   "id": "cc2bf24b",
   "metadata": {},
   "outputs": [],
   "source": [
    "#Put the average monthly sales for each city in a dictionary\n",
    "Cities={}\n",
    "for city in combined_df[\"City\"].unique():\n",
    "    city_df= combined_df[combined_df[\"City\"]==city]\n",
    "    mean_sales= city_df.groupby(\"Month\")[\"Total Sales\"].mean()\n",
    "    Cities.update({city:mean_sales})\n",
    "        "
   ]
  },
  {
   "cell_type": "code",
   "execution_count": 38,
   "id": "b1581c51",
   "metadata": {},
   "outputs": [
    {
     "data": {
      "text/plain": [
       "Month\n",
       "April        184.635408\n",
       "August       192.486171\n",
       "December     189.257199\n",
       "February     170.890072\n",
       "January      191.848998\n",
       "July         187.929304\n",
       "June         183.859227\n",
       "March        182.993198\n",
       "May          182.156066\n",
       "November     183.107557\n",
       "October      168.970308\n",
       "September    193.779727\n",
       "Name: Total Sales, dtype: float64"
      ]
     },
     "execution_count": 38,
     "metadata": {},
     "output_type": "execute_result"
    }
   ],
   "source": [
    "Cities[\" Boston\"]"
   ]
  },
  {
   "cell_type": "code",
   "execution_count": 39,
   "id": "eb2e504c",
   "metadata": {},
   "outputs": [
    {
     "data": {
      "text/plain": [
       "{' Dallas': Month\n",
       " April        186.514878\n",
       " August       185.794695\n",
       " December     189.784078\n",
       " February     189.884028\n",
       " January      183.206284\n",
       " July         192.672568\n",
       " June         175.964030\n",
       " March        185.311408\n",
       " May          189.362463\n",
       " November     182.302861\n",
       " October      197.504979\n",
       " September    174.209077\n",
       " Name: Total Sales, dtype: float64,\n",
       " ' Boston': Month\n",
       " April        184.635408\n",
       " August       192.486171\n",
       " December     189.257199\n",
       " February     170.890072\n",
       " January      191.848998\n",
       " July         187.929304\n",
       " June         183.859227\n",
       " March        182.993198\n",
       " May          182.156066\n",
       " November     183.107557\n",
       " October      168.970308\n",
       " September    193.779727\n",
       " Name: Total Sales, dtype: float64,\n",
       " ' Los Angeles': Month\n",
       " April        182.145791\n",
       " August       184.340428\n",
       " December     175.421629\n",
       " February     180.167903\n",
       " January      188.867768\n",
       " July         177.103267\n",
       " June         205.145048\n",
       " March        175.209454\n",
       " May          194.694556\n",
       " November     182.281634\n",
       " October      185.990984\n",
       " September    188.137986\n",
       " Name: Total Sales, dtype: float64,\n",
       " ' San Francisco': Month\n",
       " April        183.673366\n",
       " August       190.560775\n",
       " December     184.140928\n",
       " February     188.518304\n",
       " January      184.247627\n",
       " July         182.124791\n",
       " June         185.511509\n",
       " March        192.688946\n",
       " May          197.393668\n",
       " November     177.378747\n",
       " October      181.929046\n",
       " September    169.860561\n",
       " Name: Total Sales, dtype: float64,\n",
       " ' Seattle': Month\n",
       " April        191.342179\n",
       " August       188.580777\n",
       " December     195.446051\n",
       " February     184.822276\n",
       " January      193.524140\n",
       " July         190.081333\n",
       " June         202.693431\n",
       " March        183.156466\n",
       " May          170.676210\n",
       " November     177.512803\n",
       " October      189.271995\n",
       " September    166.704979\n",
       " Name: Total Sales, dtype: float64,\n",
       " ' Atlanta': Month\n",
       " April        193.484361\n",
       " August       179.880616\n",
       " December     181.426432\n",
       " February     188.725465\n",
       " January      190.012153\n",
       " July         185.020533\n",
       " June         198.735552\n",
       " March        186.177958\n",
       " May          179.850904\n",
       " November     195.079305\n",
       " October      191.469093\n",
       " September    187.378490\n",
       " Name: Total Sales, dtype: float64,\n",
       " ' New York City': Month\n",
       " April        184.599376\n",
       " August       185.978801\n",
       " December     190.205605\n",
       " February     189.790093\n",
       " January      198.343008\n",
       " July         184.490747\n",
       " June         182.780248\n",
       " March        186.031565\n",
       " May          192.547647\n",
       " November     181.961895\n",
       " October      184.032717\n",
       " September    196.212854\n",
       " Name: Total Sales, dtype: float64,\n",
       " ' Portland': Month\n",
       " April        194.314267\n",
       " August       186.235110\n",
       " December     184.587062\n",
       " February     179.399604\n",
       " January      183.976896\n",
       " July         191.964777\n",
       " June         180.469073\n",
       " March        190.181109\n",
       " May          198.550137\n",
       " November     178.588436\n",
       " October      183.638864\n",
       " September    179.615840\n",
       " Name: Total Sales, dtype: float64,\n",
       " ' Austin': Month\n",
       " April        177.475427\n",
       " August       193.771019\n",
       " December     173.468476\n",
       " February     174.490370\n",
       " January      166.516181\n",
       " July         197.018257\n",
       " June         201.478727\n",
       " March        184.018582\n",
       " May          191.688807\n",
       " November     197.534637\n",
       " October      186.267138\n",
       " September    160.624924\n",
       " Name: Total Sales, dtype: float64}"
      ]
     },
     "execution_count": 39,
     "metadata": {},
     "output_type": "execute_result"
    }
   ],
   "source": [
    "#average monthly sales for all the citiesin the dictionary\n",
    "Cities"
   ]
  },
  {
   "cell_type": "code",
   "execution_count": 94,
   "id": "2a87d9f3",
   "metadata": {},
   "outputs": [
    {
     "data": {
      "text/html": [
       "<div>\n",
       "<style scoped>\n",
       "    .dataframe tbody tr th:only-of-type {\n",
       "        vertical-align: middle;\n",
       "    }\n",
       "\n",
       "    .dataframe tbody tr th {\n",
       "        vertical-align: top;\n",
       "    }\n",
       "\n",
       "    .dataframe thead th {\n",
       "        text-align: right;\n",
       "    }\n",
       "</style>\n",
       "<table border=\"1\" class=\"dataframe\">\n",
       "  <thead>\n",
       "    <tr style=\"text-align: right;\">\n",
       "      <th></th>\n",
       "      <th>City</th>\n",
       "      <th>April</th>\n",
       "      <th>August</th>\n",
       "      <th>December</th>\n",
       "      <th>February</th>\n",
       "      <th>January</th>\n",
       "      <th>July</th>\n",
       "      <th>June</th>\n",
       "      <th>March</th>\n",
       "      <th>May</th>\n",
       "      <th>November</th>\n",
       "      <th>October</th>\n",
       "      <th>September</th>\n",
       "    </tr>\n",
       "  </thead>\n",
       "  <tbody>\n",
       "    <tr>\n",
       "      <th>0</th>\n",
       "      <td>Dallas</td>\n",
       "      <td>186.514878</td>\n",
       "      <td>185.794695</td>\n",
       "      <td>189.784078</td>\n",
       "      <td>189.884028</td>\n",
       "      <td>183.206284</td>\n",
       "      <td>192.672568</td>\n",
       "      <td>175.964030</td>\n",
       "      <td>185.311408</td>\n",
       "      <td>189.362463</td>\n",
       "      <td>182.302861</td>\n",
       "      <td>197.504979</td>\n",
       "      <td>174.209077</td>\n",
       "    </tr>\n",
       "    <tr>\n",
       "      <th>1</th>\n",
       "      <td>Boston</td>\n",
       "      <td>184.635408</td>\n",
       "      <td>192.486171</td>\n",
       "      <td>189.257199</td>\n",
       "      <td>170.890072</td>\n",
       "      <td>191.848998</td>\n",
       "      <td>187.929304</td>\n",
       "      <td>183.859227</td>\n",
       "      <td>182.993198</td>\n",
       "      <td>182.156066</td>\n",
       "      <td>183.107557</td>\n",
       "      <td>168.970308</td>\n",
       "      <td>193.779727</td>\n",
       "    </tr>\n",
       "    <tr>\n",
       "      <th>2</th>\n",
       "      <td>Los Angeles</td>\n",
       "      <td>182.145791</td>\n",
       "      <td>184.340428</td>\n",
       "      <td>175.421629</td>\n",
       "      <td>180.167903</td>\n",
       "      <td>188.867768</td>\n",
       "      <td>177.103267</td>\n",
       "      <td>205.145048</td>\n",
       "      <td>175.209454</td>\n",
       "      <td>194.694556</td>\n",
       "      <td>182.281634</td>\n",
       "      <td>185.990984</td>\n",
       "      <td>188.137986</td>\n",
       "    </tr>\n",
       "    <tr>\n",
       "      <th>3</th>\n",
       "      <td>San Francisco</td>\n",
       "      <td>183.673366</td>\n",
       "      <td>190.560775</td>\n",
       "      <td>184.140928</td>\n",
       "      <td>188.518304</td>\n",
       "      <td>184.247627</td>\n",
       "      <td>182.124791</td>\n",
       "      <td>185.511509</td>\n",
       "      <td>192.688946</td>\n",
       "      <td>197.393668</td>\n",
       "      <td>177.378747</td>\n",
       "      <td>181.929046</td>\n",
       "      <td>169.860561</td>\n",
       "    </tr>\n",
       "    <tr>\n",
       "      <th>4</th>\n",
       "      <td>Seattle</td>\n",
       "      <td>191.342179</td>\n",
       "      <td>188.580777</td>\n",
       "      <td>195.446051</td>\n",
       "      <td>184.822276</td>\n",
       "      <td>193.524140</td>\n",
       "      <td>190.081333</td>\n",
       "      <td>202.693431</td>\n",
       "      <td>183.156466</td>\n",
       "      <td>170.676210</td>\n",
       "      <td>177.512803</td>\n",
       "      <td>189.271995</td>\n",
       "      <td>166.704979</td>\n",
       "    </tr>\n",
       "    <tr>\n",
       "      <th>5</th>\n",
       "      <td>Atlanta</td>\n",
       "      <td>193.484361</td>\n",
       "      <td>179.880616</td>\n",
       "      <td>181.426432</td>\n",
       "      <td>188.725465</td>\n",
       "      <td>190.012153</td>\n",
       "      <td>185.020533</td>\n",
       "      <td>198.735552</td>\n",
       "      <td>186.177958</td>\n",
       "      <td>179.850904</td>\n",
       "      <td>195.079305</td>\n",
       "      <td>191.469093</td>\n",
       "      <td>187.378490</td>\n",
       "    </tr>\n",
       "    <tr>\n",
       "      <th>6</th>\n",
       "      <td>New York City</td>\n",
       "      <td>184.599376</td>\n",
       "      <td>185.978801</td>\n",
       "      <td>190.205605</td>\n",
       "      <td>189.790093</td>\n",
       "      <td>198.343008</td>\n",
       "      <td>184.490747</td>\n",
       "      <td>182.780248</td>\n",
       "      <td>186.031565</td>\n",
       "      <td>192.547647</td>\n",
       "      <td>181.961895</td>\n",
       "      <td>184.032717</td>\n",
       "      <td>196.212854</td>\n",
       "    </tr>\n",
       "    <tr>\n",
       "      <th>7</th>\n",
       "      <td>Portland</td>\n",
       "      <td>194.314267</td>\n",
       "      <td>186.235110</td>\n",
       "      <td>184.587062</td>\n",
       "      <td>179.399604</td>\n",
       "      <td>183.976896</td>\n",
       "      <td>191.964777</td>\n",
       "      <td>180.469073</td>\n",
       "      <td>190.181109</td>\n",
       "      <td>198.550137</td>\n",
       "      <td>178.588436</td>\n",
       "      <td>183.638864</td>\n",
       "      <td>179.615840</td>\n",
       "    </tr>\n",
       "    <tr>\n",
       "      <th>8</th>\n",
       "      <td>Austin</td>\n",
       "      <td>177.475427</td>\n",
       "      <td>193.771019</td>\n",
       "      <td>173.468476</td>\n",
       "      <td>174.490370</td>\n",
       "      <td>166.516181</td>\n",
       "      <td>197.018257</td>\n",
       "      <td>201.478727</td>\n",
       "      <td>184.018582</td>\n",
       "      <td>191.688807</td>\n",
       "      <td>197.534637</td>\n",
       "      <td>186.267138</td>\n",
       "      <td>160.624924</td>\n",
       "    </tr>\n",
       "  </tbody>\n",
       "</table>\n",
       "</div>"
      ],
      "text/plain": [
       "             City       April      August    December    February     January  \\\n",
       "0          Dallas  186.514878  185.794695  189.784078  189.884028  183.206284   \n",
       "1          Boston  184.635408  192.486171  189.257199  170.890072  191.848998   \n",
       "2     Los Angeles  182.145791  184.340428  175.421629  180.167903  188.867768   \n",
       "3   San Francisco  183.673366  190.560775  184.140928  188.518304  184.247627   \n",
       "4         Seattle  191.342179  188.580777  195.446051  184.822276  193.524140   \n",
       "5         Atlanta  193.484361  179.880616  181.426432  188.725465  190.012153   \n",
       "6   New York City  184.599376  185.978801  190.205605  189.790093  198.343008   \n",
       "7        Portland  194.314267  186.235110  184.587062  179.399604  183.976896   \n",
       "8          Austin  177.475427  193.771019  173.468476  174.490370  166.516181   \n",
       "\n",
       "         July        June       March         May    November     October  \\\n",
       "0  192.672568  175.964030  185.311408  189.362463  182.302861  197.504979   \n",
       "1  187.929304  183.859227  182.993198  182.156066  183.107557  168.970308   \n",
       "2  177.103267  205.145048  175.209454  194.694556  182.281634  185.990984   \n",
       "3  182.124791  185.511509  192.688946  197.393668  177.378747  181.929046   \n",
       "4  190.081333  202.693431  183.156466  170.676210  177.512803  189.271995   \n",
       "5  185.020533  198.735552  186.177958  179.850904  195.079305  191.469093   \n",
       "6  184.490747  182.780248  186.031565  192.547647  181.961895  184.032717   \n",
       "7  191.964777  180.469073  190.181109  198.550137  178.588436  183.638864   \n",
       "8  197.018257  201.478727  184.018582  191.688807  197.534637  186.267138   \n",
       "\n",
       "    September  \n",
       "0  174.209077  \n",
       "1  193.779727  \n",
       "2  188.137986  \n",
       "3  169.860561  \n",
       "4  166.704979  \n",
       "5  187.378490  \n",
       "6  196.212854  \n",
       "7  179.615840  \n",
       "8  160.624924  "
      ]
     },
     "execution_count": 94,
     "metadata": {},
     "output_type": "execute_result"
    }
   ],
   "source": [
    "# Convert the dictionary of average monthly sales for each city into a DataFrame\n",
    "mean_sales_df = pd.DataFrame.from_dict(Cities, orient='index').reset_index()\n",
    "\n",
    "#use the city name as the index\n",
    "mean_sales_df = mean_sales_df.rename(columns={'index': 'City'})\n",
    "\n",
    "#obtain a table for the average sale per month across each of the cities\n",
    "mean_sales_df"
   ]
  },
  {
   "cell_type": "code",
   "execution_count": 102,
   "id": "f54212e7",
   "metadata": {},
   "outputs": [],
   "source": [
    "#visualization\n",
    "\n",
    "x= mean_sales_df.index\n",
    "y= mean_sales_df.values\n",
    "#plt.figure(figsize=(10,8))\n",
    "#plt.grid(True)\n",
    "#plt.barh(x, y)"
   ]
  },
  {
   "cell_type": "markdown",
   "id": "e0b7cd70",
   "metadata": {},
   "source": [
    "## 4.Highest selling product per month"
   ]
  },
  {
   "cell_type": "code",
   "execution_count": 43,
   "id": "75708781",
   "metadata": {},
   "outputs": [
    {
     "data": {
      "text/plain": [
       "Month      Product               \n",
       "April      20in Monitor               43116.08\n",
       "           27in 4K Gaming Monitor    220734.34\n",
       "           27in FHD Monitor          110392.64\n",
       "           34in Ultrawide Monitor    248133.47\n",
       "           AA Batteries (4-pack)      10828.80\n",
       "                                       ...    \n",
       "September  ThinkPad Laptop           248997.51\n",
       "           USB-C Charging Cable       19012.45\n",
       "           Vareebadd Phone            50400.00\n",
       "           Wired Headphones           15587.00\n",
       "           iPhone                    277900.00\n",
       "Name: Total Sales, Length: 228, dtype: float64"
      ]
     },
     "execution_count": 43,
     "metadata": {},
     "output_type": "execute_result"
    }
   ],
   "source": [
    "hgst_sell_product= combined_df.groupby([\"Month\",\"Product\"])[\"Total Sales\"].sum()\n",
    "hgst_sell_product"
   ]
  },
  {
   "cell_type": "code",
   "execution_count": 103,
   "id": "9a1c6c4f",
   "metadata": {},
   "outputs": [],
   "source": [
    "highest_sp ={}\n",
    "for month in combined_df[\"Month\"].unique():\n",
    "    month_df= combined_df[combined_df[\"Month\"]==month]\n",
    "    max_sale= month_df.groupby(\"Product\")[\"Total Sales\"].sum().max()\n",
    "    max_sale_index= month_df.groupby(\"Product\")[\"Total Sales\"].sum().idxmax()\n",
    "    highest_sp.update({month:[max_sale, max_sale_index]})"
   ]
  },
  {
   "cell_type": "code",
   "execution_count": 67,
   "id": "c87882f7",
   "metadata": {},
   "outputs": [
    {
     "data": {
      "text/plain": [
       "'Macbook Pro Laptop'"
      ]
     },
     "execution_count": 67,
     "metadata": {},
     "output_type": "execute_result"
    }
   ],
   "source": [
    "combined_df[combined_df[\"Month\"]==\"July\"].groupby(\"Product\")[\"Total Sales\"].sum().idxmax()"
   ]
  },
  {
   "cell_type": "code",
   "execution_count": 79,
   "id": "0e469bab",
   "metadata": {},
   "outputs": [
    {
     "data": {
      "text/plain": [
       "[605200.0, 'Macbook Pro Laptop']"
      ]
     },
     "execution_count": 79,
     "metadata": {},
     "output_type": "execute_result"
    }
   ],
   "source": [
    "#checking  random months\n",
    "highest_sp[\"June\"]"
   ]
  },
  {
   "cell_type": "code",
   "execution_count": 80,
   "id": "8e855671",
   "metadata": {},
   "outputs": [
    {
     "data": {
      "text/plain": [
       "[487900.0, 'Macbook Pro Laptop']"
      ]
     },
     "execution_count": 80,
     "metadata": {},
     "output_type": "execute_result"
    }
   ],
   "source": [
    "highest_sp[\"September\"]"
   ]
  },
  {
   "cell_type": "code",
   "execution_count": 104,
   "id": "f1c663dc",
   "metadata": {},
   "outputs": [
    {
     "data": {
      "text/plain": [
       "{'April': [771800.0, 'Macbook Pro Laptop'],\n",
       " 'May': [788800.0, 'Macbook Pro Laptop'],\n",
       " 'August': [506600.0, 'Macbook Pro Laptop'],\n",
       " 'September': [487900.0, 'Macbook Pro Laptop'],\n",
       " 'December': [1093100.0, 'Macbook Pro Laptop'],\n",
       " 'January': [399500.0, 'Macbook Pro Laptop'],\n",
       " 'February': [469200.0, 'Macbook Pro Laptop'],\n",
       " 'March': [644300.0, 'Macbook Pro Laptop'],\n",
       " 'July': [625600.0, 'Macbook Pro Laptop'],\n",
       " 'June': [605200.0, 'Macbook Pro Laptop'],\n",
       " 'November': [748000.0, 'Macbook Pro Laptop'],\n",
       " 'October': [892500.0, 'Macbook Pro Laptop']}"
      ]
     },
     "execution_count": 104,
     "metadata": {},
     "output_type": "execute_result"
    }
   ],
   "source": [
    "highest_sp"
   ]
  },
  {
   "cell_type": "code",
   "execution_count": 112,
   "id": "e1415a8b",
   "metadata": {},
   "outputs": [
    {
     "data": {
      "text/html": [
       "<div>\n",
       "<style scoped>\n",
       "    .dataframe tbody tr th:only-of-type {\n",
       "        vertical-align: middle;\n",
       "    }\n",
       "\n",
       "    .dataframe tbody tr th {\n",
       "        vertical-align: top;\n",
       "    }\n",
       "\n",
       "    .dataframe thead th {\n",
       "        text-align: right;\n",
       "    }\n",
       "</style>\n",
       "<table border=\"1\" class=\"dataframe\">\n",
       "  <thead>\n",
       "    <tr style=\"text-align: right;\">\n",
       "      <th></th>\n",
       "      <th>April</th>\n",
       "      <th>May</th>\n",
       "      <th>August</th>\n",
       "      <th>September</th>\n",
       "      <th>December</th>\n",
       "      <th>January</th>\n",
       "      <th>February</th>\n",
       "      <th>March</th>\n",
       "      <th>July</th>\n",
       "      <th>June</th>\n",
       "      <th>November</th>\n",
       "      <th>October</th>\n",
       "    </tr>\n",
       "  </thead>\n",
       "  <tbody>\n",
       "    <tr>\n",
       "      <th>0</th>\n",
       "      <td>771800.0</td>\n",
       "      <td>788800.0</td>\n",
       "      <td>506600.0</td>\n",
       "      <td>487900.0</td>\n",
       "      <td>1093100.0</td>\n",
       "      <td>399500.0</td>\n",
       "      <td>469200.0</td>\n",
       "      <td>644300.0</td>\n",
       "      <td>625600.0</td>\n",
       "      <td>605200.0</td>\n",
       "      <td>748000.0</td>\n",
       "      <td>892500.0</td>\n",
       "    </tr>\n",
       "    <tr>\n",
       "      <th>1</th>\n",
       "      <td>Macbook Pro Laptop</td>\n",
       "      <td>Macbook Pro Laptop</td>\n",
       "      <td>Macbook Pro Laptop</td>\n",
       "      <td>Macbook Pro Laptop</td>\n",
       "      <td>Macbook Pro Laptop</td>\n",
       "      <td>Macbook Pro Laptop</td>\n",
       "      <td>Macbook Pro Laptop</td>\n",
       "      <td>Macbook Pro Laptop</td>\n",
       "      <td>Macbook Pro Laptop</td>\n",
       "      <td>Macbook Pro Laptop</td>\n",
       "      <td>Macbook Pro Laptop</td>\n",
       "      <td>Macbook Pro Laptop</td>\n",
       "    </tr>\n",
       "  </tbody>\n",
       "</table>\n",
       "</div>"
      ],
      "text/plain": [
       "                April                 May              August  \\\n",
       "0            771800.0            788800.0            506600.0   \n",
       "1  Macbook Pro Laptop  Macbook Pro Laptop  Macbook Pro Laptop   \n",
       "\n",
       "            September            December             January  \\\n",
       "0            487900.0           1093100.0            399500.0   \n",
       "1  Macbook Pro Laptop  Macbook Pro Laptop  Macbook Pro Laptop   \n",
       "\n",
       "             February               March                July  \\\n",
       "0            469200.0            644300.0            625600.0   \n",
       "1  Macbook Pro Laptop  Macbook Pro Laptop  Macbook Pro Laptop   \n",
       "\n",
       "                 June            November             October  \n",
       "0            605200.0            748000.0            892500.0  \n",
       "1  Macbook Pro Laptop  Macbook Pro Laptop  Macbook Pro Laptop  "
      ]
     },
     "execution_count": 112,
     "metadata": {},
     "output_type": "execute_result"
    }
   ],
   "source": [
    "#converting the dictionary into a dataframe\n",
    "highest_sp_df =pd.DataFrame(highest_sp)\n",
    "highest_sp_df"
   ]
  },
  {
   "cell_type": "markdown",
   "id": "f95b3b03",
   "metadata": {},
   "source": [
    "from the above table it is obvious that the macbook is the highest salling product throughout the year, \n",
    "but we want to obtain a visual below to see which month made most of the profit from Macbook Pro sales"
   ]
  },
  {
   "cell_type": "code",
   "execution_count": 113,
   "id": "9fcd8535",
   "metadata": {},
   "outputs": [
    {
     "data": {
      "text/plain": [
       "January       399500.0\n",
       "February      469200.0\n",
       "September     487900.0\n",
       "August        506600.0\n",
       "June          605200.0\n",
       "July          625600.0\n",
       "March         644300.0\n",
       "November      748000.0\n",
       "April         771800.0\n",
       "May           788800.0\n",
       "October       892500.0\n",
       "December     1093100.0\n",
       "Name: 0, dtype: object"
      ]
     },
     "execution_count": 113,
     "metadata": {},
     "output_type": "execute_result"
    }
   ],
   "source": [
    "month_hsp= highest_sp_df.iloc[0].sort_values()\n",
    "month_hsp"
   ]
  },
  {
   "cell_type": "code",
   "execution_count": 114,
   "id": "41f1a9ec",
   "metadata": {},
   "outputs": [
    {
     "data": {
      "text/plain": [
       "Text(0.5, 1.0, 'MacBook Pro Laptops(Which is the highest sold product) sold across the months in 2019')"
      ]
     },
     "execution_count": 114,
     "metadata": {},
     "output_type": "execute_result"
    },
    {
     "data": {
      "image/png": "[encoded data removed]",
      "text/plain": [
       "<Figure size 720x576 with 1 Axes>"
      ]
     },
     "metadata": {
      "needs_background": "light"
     },
     "output_type": "display_data"
    }
   ],
   "source": [
    "x= month_hsp.index\n",
    "y= month_hsp.values\n",
    "plt.figure(figsize=(10,8))\n",
    "plt.grid(True)\n",
    "plt.barh(x, y)\n",
    "plt.title(\"MacBook Pro Laptops(Which is the highest sold product) sold across the months in 2019\")\n"
   ]
  },
  {
   "cell_type": "markdown",
   "id": "9c734a16",
   "metadata": {},
   "source": [
    "the highest selling product per month is the Macbook pro (the month of December has the highest sales while the month of january had the lowest sales)"
   ]
  },
  {
   "cell_type": "markdown",
   "id": "d25d5246",
   "metadata": {},
   "source": [
    "## 5. Overall highest selling product"
   ]
  },
  {
   "cell_type": "code",
   "execution_count": 89,
   "id": "2f73a7cb",
   "metadata": {},
   "outputs": [
    {
     "data": {
      "text/plain": [
       "'Macbook Pro Laptop'"
      ]
     },
     "execution_count": 89,
     "metadata": {},
     "output_type": "execute_result"
    }
   ],
   "source": [
    "#Find the sum of the sales for each product, then the pick the one with highest value\n",
    "overall_high_sell_prod = combined_df.groupby([\"Product\"])[\"Total Sales\"].sum().sort_values()\n",
    "overall_high_sell_prod.idxmax()"
   ]
  },
  {
   "cell_type": "code",
   "execution_count": 90,
   "id": "7fbf7e03",
   "metadata": {},
   "outputs": [
    {
     "data": {
      "text/plain": [
       "Index(['AAA Batteries (4-pack)', 'AA Batteries (4-pack)', 'Wired Headphones',\n",
       "       'USB-C Charging Cable', 'Lightning Charging Cable', 'LG Dryer',\n",
       "       'LG Washing Machine', '20in Monitor', 'Vareebadd Phone',\n",
       "       '27in FHD Monitor', 'Bose SoundSport Headphones', 'Flatscreen TV',\n",
       "       'Apple Airpods Headphones', '34in Ultrawide Monitor',\n",
       "       '27in 4K Gaming Monitor', 'Google Phone', 'ThinkPad Laptop', 'iPhone',\n",
       "       'Macbook Pro Laptop'],\n",
       "      dtype='object', name='Product')"
      ]
     },
     "execution_count": 90,
     "metadata": {},
     "output_type": "execute_result"
    }
   ],
   "source": [
    "overall_high_sell_prod.index"
   ]
  },
  {
   "cell_type": "code",
   "execution_count": 91,
   "id": "4544bfbd",
   "metadata": {},
   "outputs": [
    {
     "data": {
      "text/plain": [
       "array([  92648.14000002,  106041.59999995,  246082.75999995,\n",
       "        285975.4500001 ,  346376.55000013,  387600.        ,\n",
       "        399600.        ,  453818.73999998,  827200.        ,\n",
       "       1131074.58999994, 1342865.69999989, 1443900.        ,\n",
       "       2345550.        , 2352898.0800001 , 2433147.61000014,\n",
       "       3317400.        , 4127958.72000044, 4792900.        ,\n",
       "       8032500.        ])"
      ]
     },
     "execution_count": 91,
     "metadata": {},
     "output_type": "execute_result"
    }
   ],
   "source": [
    "overall_high_sell_prod.values"
   ]
  },
  {
   "cell_type": "code",
   "execution_count": 92,
   "id": "14ab5323",
   "metadata": {},
   "outputs": [
    {
     "data": {
      "text/plain": [
       "([0, 1, 2, 3, 4, 5, 6, 7, 8, 9, 10, 11, 12, 13, 14, 15, 16, 17, 18],\n",
       " [Text(0, 0, ''),\n",
       "  Text(0, 0, ''),\n",
       "  Text(0, 0, ''),\n",
       "  Text(0, 0, ''),\n",
       "  Text(0, 0, ''),\n",
       "  Text(0, 0, ''),\n",
       "  Text(0, 0, ''),\n",
       "  Text(0, 0, ''),\n",
       "  Text(0, 0, ''),\n",
       "  Text(0, 0, ''),\n",
       "  Text(0, 0, ''),\n",
       "  Text(0, 0, ''),\n",
       "  Text(0, 0, ''),\n",
       "  Text(0, 0, ''),\n",
       "  Text(0, 0, ''),\n",
       "  Text(0, 0, ''),\n",
       "  Text(0, 0, ''),\n",
       "  Text(0, 0, ''),\n",
       "  Text(0, 0, '')])"
      ]
     },
     "execution_count": 92,
     "metadata": {},
     "output_type": "execute_result"
    },
    {
     "data": {
      "image/png": "[encoded data removed]",
      "text/plain": [
       "<Figure size 720x576 with 1 Axes>"
      ]
     },
     "metadata": {
      "needs_background": "light"
     },
     "output_type": "display_data"
    }
   ],
   "source": [
    "#to proof visually that the macbook pro is the highest selling product\n",
    "y= overall_high_sell_prod.values\n",
    "x= overall_high_sell_prod.index\n",
    "\n",
    "plt.figure(figsize=(10,8))\n",
    "plt.grid(True)\n",
    "#plot the chart\n",
    "plt.bar(x,y)\n",
    "\n",
    "#set the chart title\n",
    "plt.title(\"Overall highest selling product\")\n",
    "\n",
    "#axis labeling x and y\n",
    "plt.xlabel(\"Products\")\n",
    "plt.ylabel(\"Total Sales ($)\")\n",
    "\n",
    "plt.xticks(rotation=90)"
   ]
  },
  {
   "cell_type": "markdown",
   "id": "c77b771c",
   "metadata": {},
   "source": [
    "from the chart, the trend shows that Macbook Pro laptop has the overall higest selling product, while the least selling product is the AAA Batteries "
   ]
  },
  {
   "cell_type": "markdown",
   "id": "7d7d41bf",
   "metadata": {},
   "source": [
    "## 6. Highest selling product per city\n",
    "There are two possible perspectives to respond to this question:\n",
    "\n",
    "    * highest selling product by sales\n",
    "    * highest selling product by quantity ordered"
   ]
  },
  {
   "cell_type": "code",
   "execution_count": 119,
   "id": "c39e9293",
   "metadata": {},
   "outputs": [
    {
     "data": {
      "text/plain": [
       "City            Product               \n",
       " Austin         AAA Batteries (4-pack)       4987.32\n",
       "                AA Batteries (4-pack)        5460.48\n",
       " Portland       AAA Batteries (4-pack)       6213.22\n",
       " Atlanta        AAA Batteries (4-pack)       7050.42\n",
       " Seattle        AAA Batteries (4-pack)       7304.57\n",
       "                                             ...    \n",
       " San Francisco  ThinkPad Laptop            962990.37\n",
       " New York City  Macbook Pro Laptop        1116900.00\n",
       " San Francisco  iPhone                    1162000.00\n",
       " Los Angeles    Macbook Pro Laptop        1275000.00\n",
       " San Francisco  Macbook Pro Laptop        1929500.00\n",
       "Name: Total Sales, Length: 171, dtype: float64"
      ]
     },
     "execution_count": 119,
     "metadata": {},
     "output_type": "execute_result"
    }
   ],
   "source": [
    "#highest selling product by sales\n",
    "highst_sell_prod_city = combined_df.groupby([\"City\",\"Product\"])[\"Total Sales\"].sum().sort_values()\n",
    "highst_sell_prod_city"
   ]
  },
  {
   "cell_type": "code",
   "execution_count": 120,
   "id": "7cad0194",
   "metadata": {},
   "outputs": [
    {
     "data": {
      "text/plain": [
       "(' San Francisco', 'Macbook Pro Laptop')"
      ]
     },
     "execution_count": 120,
     "metadata": {},
     "output_type": "execute_result"
    }
   ],
   "source": [
    "highst_sell_prod_city.idxmax()"
   ]
  },
  {
   "cell_type": "markdown",
   "id": "10884dfc",
   "metadata": {},
   "source": [
    "N\\B: by inspection, it is observated that San Fransisco made the more purchases of tech gadgets...  "
   ]
  },
  {
   "cell_type": "code",
   "execution_count": 147,
   "id": "a7320f37",
   "metadata": {},
   "outputs": [
    {
     "data": {
      "text/plain": [
       "([0, 1, 2, 3, 4, 5, 6, 7, 8, 9, 10, 11, 12, 13, 14, 15, 16, 17, 18],\n",
       " [Text(0, 0, ''),\n",
       "  Text(0, 0, ''),\n",
       "  Text(0, 0, ''),\n",
       "  Text(0, 0, ''),\n",
       "  Text(0, 0, ''),\n",
       "  Text(0, 0, ''),\n",
       "  Text(0, 0, ''),\n",
       "  Text(0, 0, ''),\n",
       "  Text(0, 0, ''),\n",
       "  Text(0, 0, ''),\n",
       "  Text(0, 0, ''),\n",
       "  Text(0, 0, ''),\n",
       "  Text(0, 0, ''),\n",
       "  Text(0, 0, ''),\n",
       "  Text(0, 0, ''),\n",
       "  Text(0, 0, ''),\n",
       "  Text(0, 0, ''),\n",
       "  Text(0, 0, ''),\n",
       "  Text(0, 0, '')])"
      ]
     },
     "execution_count": 147,
     "metadata": {},
     "output_type": "execute_result"
    },
    {
     "data": {
      "image/png": "[encoded data removed]",
      "text/plain": [
       "<Figure size 720x576 with 1 Axes>"
      ]
     },
     "metadata": {
      "needs_background": "light"
     },
     "output_type": "display_data"
    }
   ],
   "source": [
    "y= combined_df.groupby(\"Product\")[\"Total Sales\"].sum().sort_values().values\n",
    "x= combined_df.groupby(\"Product\")[\"Total Sales\"].sum().sort_values().index\n",
    "plt.figure(figsize=(10,8))\n",
    "plt.grid(True)\n",
    "plt.bar(x,y)\n",
    "plt.title(\"Highest Selling Product by Sales made\")\n",
    "plt.xticks(rotation= 90)"
   ]
  },
  {
   "cell_type": "markdown",
   "id": "ce845d0f",
   "metadata": {},
   "source": [
    "## the highest selling product(By sales) in each city is the macbook pro laptop (San Fransisco)"
   ]
  },
  {
   "cell_type": "code",
   "execution_count": 135,
   "id": "59a5c454",
   "metadata": {},
   "outputs": [
    {
     "data": {
      "text/plain": [
       "Product\n",
       "LG Dryer                        646\n",
       "LG Washing Machine              666\n",
       "Vareebadd Phone                2068\n",
       "20in Monitor                   4126\n",
       "ThinkPad Laptop                4128\n",
       "Macbook Pro Laptop             4725\n",
       "Flatscreen TV                  4813\n",
       "Google Phone                   5529\n",
       "34in Ultrawide Monitor         6192\n",
       "27in 4K Gaming Monitor         6239\n",
       "iPhone                         6847\n",
       "27in FHD Monitor               7541\n",
       "Bose SoundSport Headphones    13430\n",
       "Apple Airpods Headphones      15637\n",
       "Wired Headphones              20524\n",
       "Lightning Charging Cable      23169\n",
       "USB-C Charging Cable          23931\n",
       "AA Batteries (4-pack)         27615\n",
       "AAA Batteries (4-pack)        30986\n",
       "Name: Quantity Ordered, dtype: int32"
      ]
     },
     "execution_count": 135,
     "metadata": {},
     "output_type": "execute_result"
    }
   ],
   "source": [
    "#highest selling product by quantity ordered\n",
    "highst_sell_prod_qty_ord= combined_df.groupby(\"Product\")[\"Quantity Ordered\"].sum().sort_values()\n",
    "highst_sell_prod_qty_ord"
   ]
  },
  {
   "cell_type": "code",
   "execution_count": 136,
   "id": "7ee95762",
   "metadata": {},
   "outputs": [
    {
     "data": {
      "text/plain": [
       "'AAA Batteries (4-pack)'"
      ]
     },
     "execution_count": 136,
     "metadata": {},
     "output_type": "execute_result"
    }
   ],
   "source": [
    "highst_sell_prod_qty_ord.idxmax()"
   ]
  },
  {
   "cell_type": "markdown",
   "id": "a80f0cc6",
   "metadata": {},
   "source": [
    "more AAA Batteries were ordered, which is also the highest selling product by quantity ordered"
   ]
  },
  {
   "cell_type": "code",
   "execution_count": 153,
   "id": "d96a2277",
   "metadata": {},
   "outputs": [
    {
     "data": {
      "text/plain": [
       "([0, 1, 2, 3, 4, 5, 6, 7, 8, 9, 10, 11, 12, 13, 14, 15, 16, 17, 18],\n",
       " [Text(0, 0, ''),\n",
       "  Text(0, 0, ''),\n",
       "  Text(0, 0, ''),\n",
       "  Text(0, 0, ''),\n",
       "  Text(0, 0, ''),\n",
       "  Text(0, 0, ''),\n",
       "  Text(0, 0, ''),\n",
       "  Text(0, 0, ''),\n",
       "  Text(0, 0, ''),\n",
       "  Text(0, 0, ''),\n",
       "  Text(0, 0, ''),\n",
       "  Text(0, 0, ''),\n",
       "  Text(0, 0, ''),\n",
       "  Text(0, 0, ''),\n",
       "  Text(0, 0, ''),\n",
       "  Text(0, 0, ''),\n",
       "  Text(0, 0, ''),\n",
       "  Text(0, 0, ''),\n",
       "  Text(0, 0, '')])"
      ]
     },
     "execution_count": 153,
     "metadata": {},
     "output_type": "execute_result"
    },
    {
     "data": {
      "image/png": "[encoded data removed]",
      "text/plain": [
       "<Figure size 720x576 with 1 Axes>"
      ]
     },
     "metadata": {
      "needs_background": "light"
     },
     "output_type": "display_data"
    }
   ],
   "source": [
    "#visualization\n",
    "x= highst_sell_prod_qty_ord.index\n",
    "y= highst_sell_prod_qty_ord.values\n",
    "plt.figure(figsize=(10,8))\n",
    "plt.grid(True)\n",
    "plt.bar(x,y)\n",
    "plt.title(\"Highest selling product by quantity ordered\")\n",
    "plt.xticks(rotation= 90)"
   ]
  },
  {
   "cell_type": "code",
   "execution_count": 149,
   "id": "a01fd689",
   "metadata": {},
   "outputs": [
    {
     "data": {
      "text/plain": [
       "( Austin, AAA Batteries (4-pack))       4987.32\n",
       "( Austin, AA Batteries (4-pack))        5460.48\n",
       "( Portland, AAA Batteries (4-pack))     6213.22\n",
       "( Atlanta, AAA Batteries (4-pack))      7050.42\n",
       "( Seattle, AAA Batteries (4-pack))      7304.57\n",
       "                                         ...   \n",
       "Wired Headphones                       20524.00\n",
       "Lightning Charging Cable               23169.00\n",
       "USB-C Charging Cable                   23931.00\n",
       "AA Batteries (4-pack)                  27615.00\n",
       "AAA Batteries (4-pack)                 30986.00\n",
       "Length: 190, dtype: float64"
      ]
     },
     "execution_count": 149,
     "metadata": {},
     "output_type": "execute_result"
    }
   ],
   "source": [
    "high_sell= [highst_sell_prod_city, highst_sell_prod_qty_ord]\n",
    "pd.concat(high_sell)"
   ]
  },
  {
   "cell_type": "markdown",
   "id": "c923cf1a",
   "metadata": {},
   "source": [
    "## 7. Most profitable product"
   ]
  },
  {
   "cell_type": "code",
   "execution_count": 51,
   "id": "76b60148",
   "metadata": {},
   "outputs": [
    {
     "data": {
      "text/plain": [
       "Product\n",
       "AAA Batteries (4-pack)          92648.14\n",
       "AA Batteries (4-pack)          106041.60\n",
       "Wired Headphones               246082.76\n",
       "USB-C Charging Cable           285975.45\n",
       "Lightning Charging Cable       346376.55\n",
       "LG Dryer                       387600.00\n",
       "LG Washing Machine             399600.00\n",
       "20in Monitor                   453818.74\n",
       "Vareebadd Phone                827200.00\n",
       "27in FHD Monitor              1131074.59\n",
       "Bose SoundSport Headphones    1342865.70\n",
       "Flatscreen TV                 1443900.00\n",
       "Apple Airpods Headphones      2345550.00\n",
       "34in Ultrawide Monitor        2352898.08\n",
       "27in 4K Gaming Monitor        2433147.61\n",
       "Google Phone                  3317400.00\n",
       "ThinkPad Laptop               4127958.72\n",
       "iPhone                        4792900.00\n",
       "Macbook Pro Laptop            8032500.00\n",
       "Name: Total Sales, dtype: float64"
      ]
     },
     "execution_count": 51,
     "metadata": {},
     "output_type": "execute_result"
    }
   ],
   "source": [
    "most_profit_prod = combined_df.groupby([\"Product\"])[\"Total Sales\"].sum().sort_values()\n",
    "most_profit_prod"
   ]
  },
  {
   "cell_type": "code",
   "execution_count": 117,
   "id": "f72a2c6f",
   "metadata": {},
   "outputs": [
    {
     "data": {
      "image/png": "[encoded data removed]",
      "text/plain": [
       "<Figure size 720x576 with 1 Axes>"
      ]
     },
     "metadata": {
      "needs_background": "light"
     },
     "output_type": "display_data"
    }
   ],
   "source": [
    "plt.figure(figsize=(10,8))\n",
    "plt.grid(True)\n",
    "most_profit_prod.plot(kind=\"bar\")\n",
    "plt.title(\"The most Profitable Product\")\n",
    "plt.xlabel(\"Product\")\n",
    "plt.ylabel(\"Total Sales (in $1000,000)\")\n",
    "plt.show()"
   ]
  },
  {
   "cell_type": "markdown",
   "id": "2dd63643",
   "metadata": {},
   "source": [
    "## from the above analysis, it shows that MacBook Pro Laptop is the most profitable product and the AAA Batteries is the least most profitable product"
   ]
  },
  {
   "cell_type": "code",
   "execution_count": null,
   "id": "6724a441",
   "metadata": {},
   "outputs": [],
   "source": []
  },
  {
   "cell_type": "markdown",
   "id": "a5117985",
   "metadata": {},
   "source": [
    "## 8. Products with the highest frequency of being bought together"
   ]
  },
  {
   "cell_type": "markdown",
   "id": "c90de04b",
   "metadata": {},
   "source": [
    "n/b: products that are bought together will have the same order ID"
   ]
  },
  {
   "cell_type": "code",
   "execution_count": 53,
   "id": "1ddcac53",
   "metadata": {},
   "outputs": [],
   "source": [
    "#use appropriate data type\n",
    "combined_df[\"Order ID\"] =combined_df.astype({\"Order ID\":int})"
   ]
  },
  {
   "cell_type": "code",
   "execution_count": 154,
   "id": "3866c126",
   "metadata": {},
   "outputs": [
    {
     "name": "stdout",
     "output_type": "stream",
     "text": [
      "<class 'pandas.core.frame.DataFrame'>\n",
      "Int64Index: 185686 entries, 0 to 186849\n",
      "Data columns (total 9 columns):\n",
      " #   Column            Non-Null Count   Dtype         \n",
      "---  ------            --------------   -----         \n",
      " 0   Order ID          185686 non-null  object        \n",
      " 1   Product           185686 non-null  object        \n",
      " 2   Quantity Ordered  185686 non-null  int32         \n",
      " 3   Price Each        185686 non-null  float64       \n",
      " 4   Order Date        185686 non-null  datetime64[ns]\n",
      " 5   Purchase Address  185686 non-null  object        \n",
      " 6   Total Sales       185686 non-null  float64       \n",
      " 7   Month             185686 non-null  object        \n",
      " 8   City              185686 non-null  object        \n",
      "dtypes: datetime64[ns](1), float64(2), int32(1), object(5)\n",
      "memory usage: 17.5+ MB\n"
     ]
    }
   ],
   "source": [
    "#check if the reassigned data type for order ID reflected\n",
    "combined_df.info()"
   ]
  },
  {
   "cell_type": "code",
   "execution_count": 163,
   "id": "f6d00d55",
   "metadata": {},
   "outputs": [
    {
     "data": {
      "text/html": [
       "<div>\n",
       "<style scoped>\n",
       "    .dataframe tbody tr th:only-of-type {\n",
       "        vertical-align: middle;\n",
       "    }\n",
       "\n",
       "    .dataframe tbody tr th {\n",
       "        vertical-align: top;\n",
       "    }\n",
       "\n",
       "    .dataframe thead th {\n",
       "        text-align: right;\n",
       "    }\n",
       "</style>\n",
       "<table border=\"1\" class=\"dataframe\">\n",
       "  <thead>\n",
       "    <tr style=\"text-align: right;\">\n",
       "      <th></th>\n",
       "      <th>Order ID</th>\n",
       "      <th>Product</th>\n",
       "      <th>Quantity Ordered</th>\n",
       "      <th>Price Each</th>\n",
       "      <th>Order Date</th>\n",
       "      <th>Purchase Address</th>\n",
       "      <th>Total Sales</th>\n",
       "      <th>Month</th>\n",
       "      <th>City</th>\n",
       "    </tr>\n",
       "  </thead>\n",
       "  <tbody>\n",
       "    <tr>\n",
       "      <th>3</th>\n",
       "      <td>176560</td>\n",
       "      <td>Google Phone</td>\n",
       "      <td>1</td>\n",
       "      <td>600.00</td>\n",
       "      <td>2019-04-12 14:38:00</td>\n",
       "      <td>669 Spruce St, Los Angeles, CA 90001</td>\n",
       "      <td>600.00</td>\n",
       "      <td>April</td>\n",
       "      <td>Los Angeles</td>\n",
       "    </tr>\n",
       "    <tr>\n",
       "      <th>4</th>\n",
       "      <td>176560</td>\n",
       "      <td>Wired Headphones</td>\n",
       "      <td>1</td>\n",
       "      <td>11.99</td>\n",
       "      <td>2019-04-12 14:38:00</td>\n",
       "      <td>669 Spruce St, Los Angeles, CA 90001</td>\n",
       "      <td>11.99</td>\n",
       "      <td>April</td>\n",
       "      <td>Los Angeles</td>\n",
       "    </tr>\n",
       "    <tr>\n",
       "      <th>18</th>\n",
       "      <td>176574</td>\n",
       "      <td>Google Phone</td>\n",
       "      <td>1</td>\n",
       "      <td>600.00</td>\n",
       "      <td>2019-04-03 19:42:00</td>\n",
       "      <td>20 Hill St, Los Angeles, CA 90001</td>\n",
       "      <td>600.00</td>\n",
       "      <td>April</td>\n",
       "      <td>Los Angeles</td>\n",
       "    </tr>\n",
       "    <tr>\n",
       "      <th>19</th>\n",
       "      <td>176574</td>\n",
       "      <td>USB-C Charging Cable</td>\n",
       "      <td>1</td>\n",
       "      <td>11.95</td>\n",
       "      <td>2019-04-03 19:42:00</td>\n",
       "      <td>20 Hill St, Los Angeles, CA 90001</td>\n",
       "      <td>11.95</td>\n",
       "      <td>April</td>\n",
       "      <td>Los Angeles</td>\n",
       "    </tr>\n",
       "    <tr>\n",
       "      <th>32</th>\n",
       "      <td>176586</td>\n",
       "      <td>AAA Batteries (4-pack)</td>\n",
       "      <td>2</td>\n",
       "      <td>2.99</td>\n",
       "      <td>2019-04-10 17:00:00</td>\n",
       "      <td>365 Center St, San Francisco, CA 94016</td>\n",
       "      <td>5.98</td>\n",
       "      <td>April</td>\n",
       "      <td>San Francisco</td>\n",
       "    </tr>\n",
       "    <tr>\n",
       "      <th>...</th>\n",
       "      <td>...</td>\n",
       "      <td>...</td>\n",
       "      <td>...</td>\n",
       "      <td>...</td>\n",
       "      <td>...</td>\n",
       "      <td>...</td>\n",
       "      <td>...</td>\n",
       "      <td>...</td>\n",
       "      <td>...</td>\n",
       "    </tr>\n",
       "    <tr>\n",
       "      <th>186792</th>\n",
       "      <td>259303</td>\n",
       "      <td>AA Batteries (4-pack)</td>\n",
       "      <td>1</td>\n",
       "      <td>3.84</td>\n",
       "      <td>2019-09-20 20:18:00</td>\n",
       "      <td>106 7th St, Atlanta, GA 30301</td>\n",
       "      <td>3.84</td>\n",
       "      <td>September</td>\n",
       "      <td>Atlanta</td>\n",
       "    </tr>\n",
       "    <tr>\n",
       "      <th>186803</th>\n",
       "      <td>259314</td>\n",
       "      <td>Wired Headphones</td>\n",
       "      <td>1</td>\n",
       "      <td>11.99</td>\n",
       "      <td>2019-09-16 00:25:00</td>\n",
       "      <td>241 Highland St, Atlanta, GA 30301</td>\n",
       "      <td>11.99</td>\n",
       "      <td>September</td>\n",
       "      <td>Atlanta</td>\n",
       "    </tr>\n",
       "    <tr>\n",
       "      <th>186804</th>\n",
       "      <td>259314</td>\n",
       "      <td>AAA Batteries (4-pack)</td>\n",
       "      <td>2</td>\n",
       "      <td>2.99</td>\n",
       "      <td>2019-09-16 00:25:00</td>\n",
       "      <td>241 Highland St, Atlanta, GA 30301</td>\n",
       "      <td>5.98</td>\n",
       "      <td>September</td>\n",
       "      <td>Atlanta</td>\n",
       "    </tr>\n",
       "    <tr>\n",
       "      <th>186841</th>\n",
       "      <td>259350</td>\n",
       "      <td>Google Phone</td>\n",
       "      <td>1</td>\n",
       "      <td>600.00</td>\n",
       "      <td>2019-09-30 13:49:00</td>\n",
       "      <td>519 Maple St, San Francisco, CA 94016</td>\n",
       "      <td>600.00</td>\n",
       "      <td>September</td>\n",
       "      <td>San Francisco</td>\n",
       "    </tr>\n",
       "    <tr>\n",
       "      <th>186842</th>\n",
       "      <td>259350</td>\n",
       "      <td>USB-C Charging Cable</td>\n",
       "      <td>1</td>\n",
       "      <td>11.95</td>\n",
       "      <td>2019-09-30 13:49:00</td>\n",
       "      <td>519 Maple St, San Francisco, CA 94016</td>\n",
       "      <td>11.95</td>\n",
       "      <td>September</td>\n",
       "      <td>San Francisco</td>\n",
       "    </tr>\n",
       "  </tbody>\n",
       "</table>\n",
       "<p>14128 rows × 9 columns</p>\n",
       "</div>"
      ],
      "text/plain": [
       "       Order ID                 Product  Quantity Ordered  Price Each  \\\n",
       "3        176560            Google Phone                 1      600.00   \n",
       "4        176560        Wired Headphones                 1       11.99   \n",
       "18       176574            Google Phone                 1      600.00   \n",
       "19       176574    USB-C Charging Cable                 1       11.95   \n",
       "32       176586  AAA Batteries (4-pack)                 2        2.99   \n",
       "...         ...                     ...               ...         ...   \n",
       "186792   259303   AA Batteries (4-pack)                 1        3.84   \n",
       "186803   259314        Wired Headphones                 1       11.99   \n",
       "186804   259314  AAA Batteries (4-pack)                 2        2.99   \n",
       "186841   259350            Google Phone                 1      600.00   \n",
       "186842   259350    USB-C Charging Cable                 1       11.95   \n",
       "\n",
       "                Order Date                        Purchase Address  \\\n",
       "3      2019-04-12 14:38:00    669 Spruce St, Los Angeles, CA 90001   \n",
       "4      2019-04-12 14:38:00    669 Spruce St, Los Angeles, CA 90001   \n",
       "18     2019-04-03 19:42:00       20 Hill St, Los Angeles, CA 90001   \n",
       "19     2019-04-03 19:42:00       20 Hill St, Los Angeles, CA 90001   \n",
       "32     2019-04-10 17:00:00  365 Center St, San Francisco, CA 94016   \n",
       "...                    ...                                     ...   \n",
       "186792 2019-09-20 20:18:00           106 7th St, Atlanta, GA 30301   \n",
       "186803 2019-09-16 00:25:00      241 Highland St, Atlanta, GA 30301   \n",
       "186804 2019-09-16 00:25:00      241 Highland St, Atlanta, GA 30301   \n",
       "186841 2019-09-30 13:49:00   519 Maple St, San Francisco, CA 94016   \n",
       "186842 2019-09-30 13:49:00   519 Maple St, San Francisco, CA 94016   \n",
       "\n",
       "        Total Sales      Month            City  \n",
       "3            600.00      April     Los Angeles  \n",
       "4             11.99      April     Los Angeles  \n",
       "18           600.00      April     Los Angeles  \n",
       "19            11.95      April     Los Angeles  \n",
       "32             5.98      April   San Francisco  \n",
       "...             ...        ...             ...  \n",
       "186792         3.84  September         Atlanta  \n",
       "186803        11.99  September         Atlanta  \n",
       "186804         5.98  September         Atlanta  \n",
       "186841       600.00  September   San Francisco  \n",
       "186842        11.95  September   San Francisco  \n",
       "\n",
       "[14128 rows x 9 columns]"
      ]
     },
     "execution_count": 163,
     "metadata": {},
     "output_type": "execute_result"
    }
   ],
   "source": [
    "#create a dataframe of all rows with same order ID by ascertaining for duplicate values in that order ID column\n",
    "grouped_orders= combined_df[combined_df.duplicated(\"Order ID\", keep=False)]\n",
    "grouped_orders"
   ]
  },
  {
   "cell_type": "code",
   "execution_count": 168,
   "id": "a5855ff2",
   "metadata": {},
   "outputs": [
    {
     "data": {
      "text/html": [
       "<div>\n",
       "<style scoped>\n",
       "    .dataframe tbody tr th:only-of-type {\n",
       "        vertical-align: middle;\n",
       "    }\n",
       "\n",
       "    .dataframe tbody tr th {\n",
       "        vertical-align: top;\n",
       "    }\n",
       "\n",
       "    .dataframe thead th {\n",
       "        text-align: right;\n",
       "    }\n",
       "</style>\n",
       "<table border=\"1\" class=\"dataframe\">\n",
       "  <thead>\n",
       "    <tr style=\"text-align: right;\">\n",
       "      <th></th>\n",
       "      <th>Order ID</th>\n",
       "      <th>Product</th>\n",
       "    </tr>\n",
       "  </thead>\n",
       "  <tbody>\n",
       "    <tr>\n",
       "      <th>0</th>\n",
       "      <td>141275</td>\n",
       "      <td>USB-C Charging Cable,Wired Headphones</td>\n",
       "    </tr>\n",
       "    <tr>\n",
       "      <th>1</th>\n",
       "      <td>141290</td>\n",
       "      <td>Apple Airpods Headphones,AA Batteries (4-pack)</td>\n",
       "    </tr>\n",
       "    <tr>\n",
       "      <th>2</th>\n",
       "      <td>141365</td>\n",
       "      <td>Vareebadd Phone,Wired Headphones</td>\n",
       "    </tr>\n",
       "    <tr>\n",
       "      <th>3</th>\n",
       "      <td>141384</td>\n",
       "      <td>Google Phone,USB-C Charging Cable</td>\n",
       "    </tr>\n",
       "    <tr>\n",
       "      <th>4</th>\n",
       "      <td>141450</td>\n",
       "      <td>Google Phone,Bose SoundSport Headphones</td>\n",
       "    </tr>\n",
       "    <tr>\n",
       "      <th>...</th>\n",
       "      <td>...</td>\n",
       "      <td>...</td>\n",
       "    </tr>\n",
       "    <tr>\n",
       "      <th>6874</th>\n",
       "      <td>319536</td>\n",
       "      <td>Macbook Pro Laptop,Wired Headphones</td>\n",
       "    </tr>\n",
       "    <tr>\n",
       "      <th>6875</th>\n",
       "      <td>319556</td>\n",
       "      <td>Google Phone,Wired Headphones</td>\n",
       "    </tr>\n",
       "    <tr>\n",
       "      <th>6876</th>\n",
       "      <td>319584</td>\n",
       "      <td>iPhone,Wired Headphones</td>\n",
       "    </tr>\n",
       "    <tr>\n",
       "      <th>6877</th>\n",
       "      <td>319596</td>\n",
       "      <td>iPhone,Lightning Charging Cable</td>\n",
       "    </tr>\n",
       "    <tr>\n",
       "      <th>6878</th>\n",
       "      <td>319631</td>\n",
       "      <td>34in Ultrawide Monitor,Lightning Charging Cable</td>\n",
       "    </tr>\n",
       "  </tbody>\n",
       "</table>\n",
       "<p>6879 rows × 2 columns</p>\n",
       "</div>"
      ],
      "text/plain": [
       "      Order ID                                          Product\n",
       "0       141275            USB-C Charging Cable,Wired Headphones\n",
       "1       141290   Apple Airpods Headphones,AA Batteries (4-pack)\n",
       "2       141365                 Vareebadd Phone,Wired Headphones\n",
       "3       141384                Google Phone,USB-C Charging Cable\n",
       "4       141450          Google Phone,Bose SoundSport Headphones\n",
       "...        ...                                              ...\n",
       "6874    319536              Macbook Pro Laptop,Wired Headphones\n",
       "6875    319556                    Google Phone,Wired Headphones\n",
       "6876    319584                          iPhone,Wired Headphones\n",
       "6877    319596                  iPhone,Lightning Charging Cable\n",
       "6878    319631  34in Ultrawide Monitor,Lightning Charging Cable\n",
       "\n",
       "[6879 rows x 2 columns]"
      ]
     },
     "execution_count": 168,
     "metadata": {},
     "output_type": "execute_result"
    }
   ],
   "source": [
    "#merge all products with same order ID into one row (using the aggregate function and .join)\n",
    "grouped_orders.groupby(\"Order ID\")[\"Product\"].agg(\",\".join).reset_index()"
   ]
  },
  {
   "cell_type": "markdown",
   "id": "4b5d67c2",
   "metadata": {},
   "source": [
    "the above shows that there's the possibility of having more than one purchase using same order ID \n",
    "like paying with POS for group of items bought together, or reciept for items bought together will have same order id"
   ]
  },
  {
   "cell_type": "markdown",
   "id": "9ea793d2",
   "metadata": {},
   "source": [
    "the Table shows the products which have high frequency of being bought together.\n",
    "USB-C charging cable goes with wired headphones\n",
    "Apple Airpods Headphones goes with AA Batteries etc.\n",
    "\n",
    "this implies that when a customer buys one of each complementary product the sales person can ask if they will need the second product"
   ]
  },
  {
   "cell_type": "markdown",
   "id": "03ff230c",
   "metadata": {},
   "source": [
    "## 9. Recommend in which City sales outlet should be closed\n",
    "closing a city's sales outlet will be dependent of the following:\n",
    "\n",
    "       if the outlet is not making sales and \n",
    "       if the outlet is not meeting customer's satisfaction in terms of quantity ordered"
   ]
  },
  {
   "cell_type": "code",
   "execution_count": 56,
   "id": "5c31242f",
   "metadata": {},
   "outputs": [
    {
     "data": {
      "text/plain": [
       "City\n",
       " Austin           1.818044e+06\n",
       " Portland         2.319332e+06\n",
       " Seattle          2.745046e+06\n",
       " Dallas           2.765374e+06\n",
       " Atlanta          2.794199e+06\n",
       " Boston           3.658628e+06\n",
       " New York City    4.661867e+06\n",
       " Los Angeles      5.448304e+06\n",
       " San Francisco    8.254744e+06\n",
       "Name: Total Sales, dtype: float64"
      ]
     },
     "execution_count": 56,
     "metadata": {},
     "output_type": "execute_result"
    }
   ],
   "source": [
    "#checking for sales requirement for dropping an outlet\n",
    "outlet= combined_df.groupby(\"City\")[\"Total Sales\"].sum().sort_values()\n",
    "outlet"
   ]
  },
  {
   "cell_type": "code",
   "execution_count": 171,
   "id": "fac49770",
   "metadata": {},
   "outputs": [
    {
     "data": {
      "text/plain": [
       "Text(0.5, 1.0, 'Recomendation of City outlet to be closed')"
      ]
     },
     "execution_count": 171,
     "metadata": {},
     "output_type": "execute_result"
    },
    {
     "data": {
      "image/png": "[encoded data removed]",
      "text/plain": [
       "<Figure size 720x576 with 1 Axes>"
      ]
     },
     "metadata": {
      "needs_background": "light"
     },
     "output_type": "display_data"
    }
   ],
   "source": [
    "#visualisation\n",
    "plt.figure(figsize=(10,8))\n",
    "plt.grid(True)\n",
    "y = outlet.values\n",
    "x = outlet.index\n",
    "plt.bar(x,y)\n",
    "plt.xticks(rotation=90)\n",
    "plt.xlabel(\"City\")\n",
    "plt.ylabel(\"Total Sales in ($1,000,000)\")\n",
    "plt.title(\"Recomendation of City outlet to be closed\")"
   ]
  },
  {
   "cell_type": "code",
   "execution_count": 172,
   "id": "ee81a598",
   "metadata": {},
   "outputs": [
    {
     "data": {
      "text/plain": [
       "City\n",
       " San Francisco    44662\n",
       " Los Angeles      29564\n",
       " New York City    24847\n",
       " Boston           19901\n",
       " Atlanta          14863\n",
       " Dallas           14797\n",
       " Seattle          14713\n",
       " Portland         12449\n",
       " Austin            9890\n",
       "Name: Quantity Ordered, dtype: int64"
      ]
     },
     "execution_count": 172,
     "metadata": {},
     "output_type": "execute_result"
    }
   ],
   "source": [
    "#checking for customer satisfaction requirement for dropping an outlet (quantity ordered)\n",
    "city_orders = combined_df.groupby(\"City\")[\"Quantity Ordered\"].count().sort_values(ascending=False)\n",
    "city_orders"
   ]
  },
  {
   "cell_type": "code",
   "execution_count": 174,
   "id": "9fa44f9b",
   "metadata": {},
   "outputs": [
    {
     "data": {
      "image/png": "[encoded data removed]",
      "text/plain": [
       "<Figure size 720x648 with 1 Axes>"
      ]
     },
     "metadata": {},
     "output_type": "display_data"
    }
   ],
   "source": [
    "plt.figure(figsize=(10,9))\n",
    "x =city_orders.values\n",
    "labels = city_orders.index\n",
    "\n",
    "plt.pie(x,labels=labels, explode=[0,0,0,0,0,0,0,0,0.3])\n",
    "plt.title(\"City Outlet transaction performance\")\n",
    "plt.show()\n"
   ]
  },
  {
   "cell_type": "markdown",
   "id": "b884c486",
   "metadata": {},
   "source": [
    "I recommend that sales outlet should be closed in Austin, Texas. Reasons being that its location accounts for the least number of transactions and the least value of sales made."
   ]
  },
  {
   "cell_type": "markdown",
   "id": "2f9a7bf8",
   "metadata": {},
   "source": [
    "## 10. Recommend a product to be dropped from the store’s inventory"
   ]
  },
  {
   "cell_type": "markdown",
   "id": "4fdbd61d",
   "metadata": {},
   "source": [
    "Dropping a particular line of product is a function of other reasons like : \n",
    "1. profit maximization \n",
    "2. customer satisfaction (for Brand visibility based on volume of transactions)"
   ]
  },
  {
   "cell_type": "code",
   "execution_count": 155,
   "id": "443e477d",
   "metadata": {},
   "outputs": [
    {
     "data": {
      "text/plain": [
       "Product\n",
       "AAA Batteries (4-pack)          92648.14\n",
       "AA Batteries (4-pack)          106041.60\n",
       "Wired Headphones               246082.76\n",
       "USB-C Charging Cable           285975.45\n",
       "Lightning Charging Cable       346376.55\n",
       "LG Dryer                       387600.00\n",
       "LG Washing Machine             399600.00\n",
       "20in Monitor                   453818.74\n",
       "Vareebadd Phone                827200.00\n",
       "27in FHD Monitor              1131074.59\n",
       "Bose SoundSport Headphones    1342865.70\n",
       "Flatscreen TV                 1443900.00\n",
       "Apple Airpods Headphones      2345550.00\n",
       "34in Ultrawide Monitor        2352898.08\n",
       "27in 4K Gaming Monitor        2433147.61\n",
       "Google Phone                  3317400.00\n",
       "ThinkPad Laptop               4127958.72\n",
       "iPhone                        4792900.00\n",
       "Macbook Pro Laptop            8032500.00\n",
       "Name: Total Sales, dtype: float64"
      ]
     },
     "execution_count": 155,
     "metadata": {},
     "output_type": "execute_result"
    }
   ],
   "source": [
    "#1. Profit maximization\n",
    "prod_drop = combined_df.groupby(\"Product\")[\"Total Sales\"].sum().sort_values()\n",
    "prod_drop"
   ]
  },
  {
   "cell_type": "code",
   "execution_count": 157,
   "id": "6575da60",
   "metadata": {},
   "outputs": [
    {
     "data": {
      "image/png": "[encoded data removed]",
      "text/plain": [
       "<Figure size 720x576 with 1 Axes>"
      ]
     },
     "metadata": {
      "needs_background": "light"
     },
     "output_type": "display_data"
    }
   ],
   "source": [
    "#visualization \n",
    "plt.figure(figsize=(10,8))\n",
    "plt.grid(True)\n",
    "prod_drop.plot(kind=\"bar\")\n",
    "plt.title(\"Recomendation of product to be dropped\")\n",
    "plt.ylabel(\"Total Sales (in 1000,000)\")\n",
    "plt.show()"
   ]
  },
  {
   "cell_type": "markdown",
   "id": "fc1671c6",
   "metadata": {},
   "source": [
    "Dropping a particular line of product is a function of other parameters like :\n",
    "\n",
    "1.profit orientation\n",
    "\n",
    "2.customer satisfaction orientation (low or high rate of consumer demand)\n",
    "\n",
    "> in this case it's from a profit oriented perspective: i do not recommend that the AAA Batteries even though it seems to be the least profitable but in high demand by customers (customers buy it more hence for the sake of customer satisfaction and propensity of future profit margin we will leave it) ... see the plots from Objective 7 and objective 10 showed this product as the least profitable product  (it made the least profit, but its in high demand). N/B: this also applies to other accesories .\n",
    "\n",
    ">However, i will drop LG Dryer. with Reasons below (from facts collected in the charts 7,8,10):\n",
    "\n",
    "1. in terms of highest selling product by quantity ordered LG Dryer is the least ordered\n",
    "2. in terms of highest selling product by sales realised LG dryer is among the least and (it makes seasonal sales)\n",
    "3. in terms of highest frequency of being bought together LG Dryer is among the least\n"
   ]
  },
  {
   "cell_type": "code",
   "execution_count": null,
   "id": "b2776425",
   "metadata": {},
   "outputs": [],
   "source": []
  }
 ],
 "metadata": {
  "kernelspec": {
   "display_name": "Python 3",
   "language": "python",
   "name": "python3"
  },
  "language_info": {
   "codemirror_mode": {
    "name": "ipython",
    "version": 3
   },
   "file_extension": ".py",
   "mimetype": "text/x-python",
   "name": "python",
   "nbconvert_exporter": "python",
   "pygments_lexer": "ipython3",
   "version": "3.8.8"
  }
 },
 "nbformat": 4,
 "nbformat_minor": 5
}
